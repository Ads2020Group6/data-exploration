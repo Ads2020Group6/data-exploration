{
 "cells": [
  {
   "cell_type": "code",
   "execution_count": 2,
   "metadata": {},
   "outputs": [],
   "source": [
    "import pandas as pd\n",
    "import numpy as np\n",
    "import matplotlib.pyplot as plt\n",
    "import seaborn as sns"
   ]
  },
  {
   "cell_type": "code",
   "execution_count": 3,
   "metadata": {},
   "outputs": [
    {
     "data": {
      "text/html": [
       "<div>\n",
       "<style scoped>\n",
       "    .dataframe tbody tr th:only-of-type {\n",
       "        vertical-align: middle;\n",
       "    }\n",
       "\n",
       "    .dataframe tbody tr th {\n",
       "        vertical-align: top;\n",
       "    }\n",
       "\n",
       "    .dataframe thead th {\n",
       "        text-align: right;\n",
       "    }\n",
       "</style>\n",
       "<table border=\"1\" class=\"dataframe\">\n",
       "  <thead>\n",
       "    <tr style=\"text-align: right;\">\n",
       "      <th></th>\n",
       "      <th>COU</th>\n",
       "      <th>Country</th>\n",
       "      <th>IND</th>\n",
       "      <th>Indicator</th>\n",
       "      <th>SEX</th>\n",
       "      <th>Sex</th>\n",
       "      <th>AGE</th>\n",
       "      <th>Age Group</th>\n",
       "      <th>TIME</th>\n",
       "      <th>Time</th>\n",
       "      <th>Unit Code</th>\n",
       "      <th>Unit</th>\n",
       "      <th>PowerCode Code</th>\n",
       "      <th>PowerCode</th>\n",
       "      <th>Reference Period Code</th>\n",
       "      <th>Reference Period</th>\n",
       "      <th>Value</th>\n",
       "      <th>Flag Codes</th>\n",
       "      <th>Flags</th>\n",
       "    </tr>\n",
       "  </thead>\n",
       "  <tbody>\n",
       "    <tr>\n",
       "      <th>0</th>\n",
       "      <td>AUS</td>\n",
       "      <td>Australia</td>\n",
       "      <td>EMP9</td>\n",
       "      <td>Gender wage gap</td>\n",
       "      <td>ALL_PERSONS</td>\n",
       "      <td>All persons</td>\n",
       "      <td>TOTAL</td>\n",
       "      <td>Total</td>\n",
       "      <td>2000</td>\n",
       "      <td>2000</td>\n",
       "      <td>PC</td>\n",
       "      <td>Percentage</td>\n",
       "      <td>0</td>\n",
       "      <td>Units</td>\n",
       "      <td>NaN</td>\n",
       "      <td>NaN</td>\n",
       "      <td>17.2</td>\n",
       "      <td>NaN</td>\n",
       "      <td>NaN</td>\n",
       "    </tr>\n",
       "    <tr>\n",
       "      <th>1</th>\n",
       "      <td>AUS</td>\n",
       "      <td>Australia</td>\n",
       "      <td>EMP9</td>\n",
       "      <td>Gender wage gap</td>\n",
       "      <td>ALL_PERSONS</td>\n",
       "      <td>All persons</td>\n",
       "      <td>TOTAL</td>\n",
       "      <td>Total</td>\n",
       "      <td>2001</td>\n",
       "      <td>2001</td>\n",
       "      <td>PC</td>\n",
       "      <td>Percentage</td>\n",
       "      <td>0</td>\n",
       "      <td>Units</td>\n",
       "      <td>NaN</td>\n",
       "      <td>NaN</td>\n",
       "      <td>14.3</td>\n",
       "      <td>NaN</td>\n",
       "      <td>NaN</td>\n",
       "    </tr>\n",
       "    <tr>\n",
       "      <th>2</th>\n",
       "      <td>AUS</td>\n",
       "      <td>Australia</td>\n",
       "      <td>EMP9</td>\n",
       "      <td>Gender wage gap</td>\n",
       "      <td>ALL_PERSONS</td>\n",
       "      <td>All persons</td>\n",
       "      <td>TOTAL</td>\n",
       "      <td>Total</td>\n",
       "      <td>2002</td>\n",
       "      <td>2002</td>\n",
       "      <td>PC</td>\n",
       "      <td>Percentage</td>\n",
       "      <td>0</td>\n",
       "      <td>Units</td>\n",
       "      <td>NaN</td>\n",
       "      <td>NaN</td>\n",
       "      <td>15.0</td>\n",
       "      <td>NaN</td>\n",
       "      <td>NaN</td>\n",
       "    </tr>\n",
       "    <tr>\n",
       "      <th>3</th>\n",
       "      <td>AUS</td>\n",
       "      <td>Australia</td>\n",
       "      <td>EMP9</td>\n",
       "      <td>Gender wage gap</td>\n",
       "      <td>ALL_PERSONS</td>\n",
       "      <td>All persons</td>\n",
       "      <td>TOTAL</td>\n",
       "      <td>Total</td>\n",
       "      <td>2003</td>\n",
       "      <td>2003</td>\n",
       "      <td>PC</td>\n",
       "      <td>Percentage</td>\n",
       "      <td>0</td>\n",
       "      <td>Units</td>\n",
       "      <td>NaN</td>\n",
       "      <td>NaN</td>\n",
       "      <td>13.0</td>\n",
       "      <td>NaN</td>\n",
       "      <td>NaN</td>\n",
       "    </tr>\n",
       "    <tr>\n",
       "      <th>4</th>\n",
       "      <td>AUS</td>\n",
       "      <td>Australia</td>\n",
       "      <td>EMP9</td>\n",
       "      <td>Gender wage gap</td>\n",
       "      <td>ALL_PERSONS</td>\n",
       "      <td>All persons</td>\n",
       "      <td>TOTAL</td>\n",
       "      <td>Total</td>\n",
       "      <td>2004</td>\n",
       "      <td>2004</td>\n",
       "      <td>PC</td>\n",
       "      <td>Percentage</td>\n",
       "      <td>0</td>\n",
       "      <td>Units</td>\n",
       "      <td>NaN</td>\n",
       "      <td>NaN</td>\n",
       "      <td>14.4</td>\n",
       "      <td>NaN</td>\n",
       "      <td>NaN</td>\n",
       "    </tr>\n",
       "  </tbody>\n",
       "</table>\n",
       "</div>"
      ],
      "text/plain": [
       "   COU    Country   IND        Indicator          SEX          Sex    AGE  \\\n",
       "0  AUS  Australia  EMP9  Gender wage gap  ALL_PERSONS  All persons  TOTAL   \n",
       "1  AUS  Australia  EMP9  Gender wage gap  ALL_PERSONS  All persons  TOTAL   \n",
       "2  AUS  Australia  EMP9  Gender wage gap  ALL_PERSONS  All persons  TOTAL   \n",
       "3  AUS  Australia  EMP9  Gender wage gap  ALL_PERSONS  All persons  TOTAL   \n",
       "4  AUS  Australia  EMP9  Gender wage gap  ALL_PERSONS  All persons  TOTAL   \n",
       "\n",
       "  Age Group  TIME  Time Unit Code        Unit  PowerCode Code PowerCode  \\\n",
       "0     Total  2000  2000        PC  Percentage               0     Units   \n",
       "1     Total  2001  2001        PC  Percentage               0     Units   \n",
       "2     Total  2002  2002        PC  Percentage               0     Units   \n",
       "3     Total  2003  2003        PC  Percentage               0     Units   \n",
       "4     Total  2004  2004        PC  Percentage               0     Units   \n",
       "\n",
       "   Reference Period Code  Reference Period  Value  Flag Codes  Flags  \n",
       "0                    NaN               NaN   17.2         NaN    NaN  \n",
       "1                    NaN               NaN   14.3         NaN    NaN  \n",
       "2                    NaN               NaN   15.0         NaN    NaN  \n",
       "3                    NaN               NaN   13.0         NaN    NaN  \n",
       "4                    NaN               NaN   14.4         NaN    NaN  "
      ]
     },
     "execution_count": 3,
     "metadata": {},
     "output_type": "execute_result"
    }
   ],
   "source": [
    "url = \"data/OECD/all_countries_pay_gap.csv\"\n",
    "data = pd.read_csv(url)\n",
    "data.head()"
   ]
  },
  {
   "cell_type": "code",
   "execution_count": 4,
   "metadata": {},
   "outputs": [
    {
     "data": {
      "text/html": [
       "<div>\n",
       "<style scoped>\n",
       "    .dataframe tbody tr th:only-of-type {\n",
       "        vertical-align: middle;\n",
       "    }\n",
       "\n",
       "    .dataframe tbody tr th {\n",
       "        vertical-align: top;\n",
       "    }\n",
       "\n",
       "    .dataframe thead th {\n",
       "        text-align: right;\n",
       "    }\n",
       "</style>\n",
       "<table border=\"1\" class=\"dataframe\">\n",
       "  <thead>\n",
       "    <tr style=\"text-align: right;\">\n",
       "      <th></th>\n",
       "      <th>TIME</th>\n",
       "      <th>Time</th>\n",
       "      <th>PowerCode Code</th>\n",
       "      <th>Reference Period Code</th>\n",
       "      <th>Reference Period</th>\n",
       "      <th>Value</th>\n",
       "      <th>Flag Codes</th>\n",
       "      <th>Flags</th>\n",
       "    </tr>\n",
       "  </thead>\n",
       "  <tbody>\n",
       "    <tr>\n",
       "      <th>count</th>\n",
       "      <td>527.000000</td>\n",
       "      <td>527.000000</td>\n",
       "      <td>527.0</td>\n",
       "      <td>0.0</td>\n",
       "      <td>0.0</td>\n",
       "      <td>527.000000</td>\n",
       "      <td>0.0</td>\n",
       "      <td>0.0</td>\n",
       "    </tr>\n",
       "    <tr>\n",
       "      <th>mean</th>\n",
       "      <td>2008.992410</td>\n",
       "      <td>2008.992410</td>\n",
       "      <td>0.0</td>\n",
       "      <td>NaN</td>\n",
       "      <td>NaN</td>\n",
       "      <td>15.335674</td>\n",
       "      <td>NaN</td>\n",
       "      <td>NaN</td>\n",
       "    </tr>\n",
       "    <tr>\n",
       "      <th>std</th>\n",
       "      <td>5.054827</td>\n",
       "      <td>5.054827</td>\n",
       "      <td>0.0</td>\n",
       "      <td>NaN</td>\n",
       "      <td>NaN</td>\n",
       "      <td>7.652646</td>\n",
       "      <td>NaN</td>\n",
       "      <td>NaN</td>\n",
       "    </tr>\n",
       "    <tr>\n",
       "      <th>min</th>\n",
       "      <td>2000.000000</td>\n",
       "      <td>2000.000000</td>\n",
       "      <td>0.0</td>\n",
       "      <td>NaN</td>\n",
       "      <td>NaN</td>\n",
       "      <td>0.000000</td>\n",
       "      <td>NaN</td>\n",
       "      <td>NaN</td>\n",
       "    </tr>\n",
       "    <tr>\n",
       "      <th>25%</th>\n",
       "      <td>2005.000000</td>\n",
       "      <td>2005.000000</td>\n",
       "      <td>0.0</td>\n",
       "      <td>NaN</td>\n",
       "      <td>NaN</td>\n",
       "      <td>9.950000</td>\n",
       "      <td>NaN</td>\n",
       "      <td>NaN</td>\n",
       "    </tr>\n",
       "    <tr>\n",
       "      <th>50%</th>\n",
       "      <td>2009.000000</td>\n",
       "      <td>2009.000000</td>\n",
       "      <td>0.0</td>\n",
       "      <td>NaN</td>\n",
       "      <td>NaN</td>\n",
       "      <td>15.000000</td>\n",
       "      <td>NaN</td>\n",
       "      <td>NaN</td>\n",
       "    </tr>\n",
       "    <tr>\n",
       "      <th>75%</th>\n",
       "      <td>2013.000000</td>\n",
       "      <td>2013.000000</td>\n",
       "      <td>0.0</td>\n",
       "      <td>NaN</td>\n",
       "      <td>NaN</td>\n",
       "      <td>19.200000</td>\n",
       "      <td>NaN</td>\n",
       "      <td>NaN</td>\n",
       "    </tr>\n",
       "    <tr>\n",
       "      <th>max</th>\n",
       "      <td>2018.000000</td>\n",
       "      <td>2018.000000</td>\n",
       "      <td>0.0</td>\n",
       "      <td>NaN</td>\n",
       "      <td>NaN</td>\n",
       "      <td>41.700000</td>\n",
       "      <td>NaN</td>\n",
       "      <td>NaN</td>\n",
       "    </tr>\n",
       "  </tbody>\n",
       "</table>\n",
       "</div>"
      ],
      "text/plain": [
       "              TIME         Time  PowerCode Code  Reference Period Code  \\\n",
       "count   527.000000   527.000000           527.0                    0.0   \n",
       "mean   2008.992410  2008.992410             0.0                    NaN   \n",
       "std       5.054827     5.054827             0.0                    NaN   \n",
       "min    2000.000000  2000.000000             0.0                    NaN   \n",
       "25%    2005.000000  2005.000000             0.0                    NaN   \n",
       "50%    2009.000000  2009.000000             0.0                    NaN   \n",
       "75%    2013.000000  2013.000000             0.0                    NaN   \n",
       "max    2018.000000  2018.000000             0.0                    NaN   \n",
       "\n",
       "       Reference Period       Value  Flag Codes  Flags  \n",
       "count               0.0  527.000000         0.0    0.0  \n",
       "mean                NaN   15.335674         NaN    NaN  \n",
       "std                 NaN    7.652646         NaN    NaN  \n",
       "min                 NaN    0.000000         NaN    NaN  \n",
       "25%                 NaN    9.950000         NaN    NaN  \n",
       "50%                 NaN   15.000000         NaN    NaN  \n",
       "75%                 NaN   19.200000         NaN    NaN  \n",
       "max                 NaN   41.700000         NaN    NaN  "
      ]
     },
     "execution_count": 4,
     "metadata": {},
     "output_type": "execute_result"
    }
   ],
   "source": [
    "data.describe()"
   ]
  },
  {
   "cell_type": "code",
   "execution_count": 5,
   "metadata": {},
   "outputs": [
    {
     "name": "stdout",
     "output_type": "stream",
     "text": [
      "COU                       39\n",
      "Country                   39\n",
      "IND                        1\n",
      "Indicator                  1\n",
      "SEX                        1\n",
      "Sex                        1\n",
      "AGE                        1\n",
      "Age Group                  1\n",
      "TIME                      19\n",
      "Time                      19\n",
      "Unit Code                  1\n",
      "Unit                       1\n",
      "PowerCode Code             1\n",
      "PowerCode                  1\n",
      "Reference Period Code      0\n",
      "Reference Period           0\n",
      "Value                    222\n",
      "Flag Codes                 0\n",
      "Flags                      0\n",
      "dtype: int64\n"
     ]
    }
   ],
   "source": [
    "unique_count = data.nunique()\n",
    "print (unique_count)\n",
    "# for i,v in enumerate(unique_count):\n",
    "#     print(data.columns[i])"
   ]
  },
  {
   "cell_type": "markdown",
   "metadata": {},
   "source": [
    "Drop all columns with 1 unique value since that doesn't help in plotting\n",
    "\n",
    "https://machinelearningmastery.com/basic-data-cleaning-for-machine-learning/\n"
   ]
  },
  {
   "cell_type": "code",
   "execution_count": 6,
   "metadata": {},
   "outputs": [
    {
     "name": "stdout",
     "output_type": "stream",
     "text": [
      "['IND', 'Indicator', 'SEX', 'Sex', 'AGE', 'Age Group', 'Unit Code', 'Unit', 'PowerCode Code', 'PowerCode', 'Reference Period Code', 'Reference Period', 'Flag Codes', 'Flags']\n"
     ]
    }
   ],
   "source": [
    "drop_col = [data.columns[i] for i, v in enumerate(unique_count) if v == 1 or v==0]\n",
    "print(drop_col)\n",
    "data.drop(drop_col, axis=1, inplace=True)"
   ]
  },
  {
   "cell_type": "code",
   "execution_count": 7,
   "metadata": {},
   "outputs": [
    {
     "data": {
      "text/html": [
       "<div>\n",
       "<style scoped>\n",
       "    .dataframe tbody tr th:only-of-type {\n",
       "        vertical-align: middle;\n",
       "    }\n",
       "\n",
       "    .dataframe tbody tr th {\n",
       "        vertical-align: top;\n",
       "    }\n",
       "\n",
       "    .dataframe thead th {\n",
       "        text-align: right;\n",
       "    }\n",
       "</style>\n",
       "<table border=\"1\" class=\"dataframe\">\n",
       "  <thead>\n",
       "    <tr style=\"text-align: right;\">\n",
       "      <th></th>\n",
       "      <th>COU</th>\n",
       "      <th>Country</th>\n",
       "      <th>TIME</th>\n",
       "      <th>Time</th>\n",
       "      <th>Value</th>\n",
       "    </tr>\n",
       "  </thead>\n",
       "  <tbody>\n",
       "    <tr>\n",
       "      <th>0</th>\n",
       "      <td>AUS</td>\n",
       "      <td>Australia</td>\n",
       "      <td>2000</td>\n",
       "      <td>2000</td>\n",
       "      <td>17.2</td>\n",
       "    </tr>\n",
       "    <tr>\n",
       "      <th>1</th>\n",
       "      <td>AUS</td>\n",
       "      <td>Australia</td>\n",
       "      <td>2001</td>\n",
       "      <td>2001</td>\n",
       "      <td>14.3</td>\n",
       "    </tr>\n",
       "    <tr>\n",
       "      <th>2</th>\n",
       "      <td>AUS</td>\n",
       "      <td>Australia</td>\n",
       "      <td>2002</td>\n",
       "      <td>2002</td>\n",
       "      <td>15.0</td>\n",
       "    </tr>\n",
       "    <tr>\n",
       "      <th>3</th>\n",
       "      <td>AUS</td>\n",
       "      <td>Australia</td>\n",
       "      <td>2003</td>\n",
       "      <td>2003</td>\n",
       "      <td>13.0</td>\n",
       "    </tr>\n",
       "    <tr>\n",
       "      <th>4</th>\n",
       "      <td>AUS</td>\n",
       "      <td>Australia</td>\n",
       "      <td>2004</td>\n",
       "      <td>2004</td>\n",
       "      <td>14.4</td>\n",
       "    </tr>\n",
       "  </tbody>\n",
       "</table>\n",
       "</div>"
      ],
      "text/plain": [
       "   COU    Country  TIME  Time  Value\n",
       "0  AUS  Australia  2000  2000   17.2\n",
       "1  AUS  Australia  2001  2001   14.3\n",
       "2  AUS  Australia  2002  2002   15.0\n",
       "3  AUS  Australia  2003  2003   13.0\n",
       "4  AUS  Australia  2004  2004   14.4"
      ]
     },
     "execution_count": 7,
     "metadata": {},
     "output_type": "execute_result"
    }
   ],
   "source": [
    "data.head()"
   ]
  },
  {
   "cell_type": "code",
   "execution_count": 8,
   "metadata": {},
   "outputs": [
    {
     "name": "stdout",
     "output_type": "stream",
     "text": [
      "False\n"
     ]
    }
   ],
   "source": [
    "dups = data.duplicated()\n",
    "# report if there are any duplicates\n",
    "print(dups.any())"
   ]
  },
  {
   "cell_type": "code",
   "execution_count": 9,
   "metadata": {},
   "outputs": [
    {
     "data": {
      "text/plain": [
       "Time\n",
       "2014    38\n",
       "2010    38\n",
       "2006    37\n",
       "2002    31\n",
       "2012    30\n",
       "2011    30\n",
       "2008    30\n",
       "2009    29\n",
       "2016    28\n",
       "2015    28\n",
       "2013    28\n",
       "2007    28\n",
       "2004    28\n",
       "2005    27\n",
       "2017    23\n",
       "2003    23\n",
       "2000    21\n",
       "2001    19\n",
       "2018    11\n",
       "Name: COU, dtype: int64"
      ]
     },
     "execution_count": 9,
     "metadata": {},
     "output_type": "execute_result"
    }
   ],
   "source": [
    "data.groupby('Time').count()['COU'].sort_values(ascending=False)"
   ]
  },
  {
   "cell_type": "code",
   "execution_count": 10,
   "metadata": {},
   "outputs": [],
   "source": [
    "data.rename(columns={ 'Value': 'Gender Pay Gap'}, inplace=True)\n"
   ]
  },
  {
   "cell_type": "code",
   "execution_count": 11,
   "metadata": {},
   "outputs": [
    {
     "name": "stdout",
     "output_type": "stream",
     "text": [
      "2016:  28\n",
      "2017:  23\n",
      "2018:  11\n"
     ]
    }
   ],
   "source": [
    "# latest gender pay gap for most countries\n",
    "\n",
    "data_2016 = data.loc[data['Time'] == 2016]\n",
    "print ('2016: ', data_2016['Country'].nunique())\n",
    "\n",
    "data_2017 = data.loc[data['Time'] == 2017]\n",
    "print ('2017: ', data_2017['Country'].nunique())\n",
    "\n",
    "data_2018 = data.loc[data['Time'] == 2018]\n",
    "print ('2018: ', data_2018['Country'].nunique())\n",
    "\n",
    "data_16_17_18 = data.loc[data['Time'].isin([2016,2017,2018])]"
   ]
  },
  {
   "cell_type": "code",
   "execution_count": 12,
   "metadata": {},
   "outputs": [
    {
     "data": {
      "text/html": [
       "<div>\n",
       "<style scoped>\n",
       "    .dataframe tbody tr th:only-of-type {\n",
       "        vertical-align: middle;\n",
       "    }\n",
       "\n",
       "    .dataframe tbody tr th {\n",
       "        vertical-align: top;\n",
       "    }\n",
       "\n",
       "    .dataframe thead th {\n",
       "        text-align: right;\n",
       "    }\n",
       "</style>\n",
       "<table border=\"1\" class=\"dataframe\">\n",
       "  <thead>\n",
       "    <tr style=\"text-align: right;\">\n",
       "      <th></th>\n",
       "      <th>COU</th>\n",
       "      <th>Country</th>\n",
       "      <th>TIME</th>\n",
       "      <th>Time</th>\n",
       "      <th>Gender Pay Gap</th>\n",
       "    </tr>\n",
       "  </thead>\n",
       "  <tbody>\n",
       "    <tr>\n",
       "      <th>442</th>\n",
       "      <td>AUS</td>\n",
       "      <td>Australia</td>\n",
       "      <td>2016</td>\n",
       "      <td>2016</td>\n",
       "      <td>11.5</td>\n",
       "    </tr>\n",
       "    <tr>\n",
       "      <th>444</th>\n",
       "      <td>CZE</td>\n",
       "      <td>Czech Republic</td>\n",
       "      <td>2016</td>\n",
       "      <td>2016</td>\n",
       "      <td>16.0</td>\n",
       "    </tr>\n",
       "    <tr>\n",
       "      <th>453</th>\n",
       "      <td>KOR</td>\n",
       "      <td>Korea</td>\n",
       "      <td>2016</td>\n",
       "      <td>2016</td>\n",
       "      <td>36.7</td>\n",
       "    </tr>\n",
       "    <tr>\n",
       "      <th>454</th>\n",
       "      <td>MEX</td>\n",
       "      <td>Mexico</td>\n",
       "      <td>2016</td>\n",
       "      <td>2016</td>\n",
       "      <td>16.5</td>\n",
       "    </tr>\n",
       "    <tr>\n",
       "      <th>456</th>\n",
       "      <td>SVK</td>\n",
       "      <td>Slovak Republic</td>\n",
       "      <td>2016</td>\n",
       "      <td>2016</td>\n",
       "      <td>13.9</td>\n",
       "    </tr>\n",
       "  </tbody>\n",
       "</table>\n",
       "</div>"
      ],
      "text/plain": [
       "     COU          Country  TIME  Time  Gender Pay Gap\n",
       "442  AUS        Australia  2016  2016            11.5\n",
       "444  CZE   Czech Republic  2016  2016            16.0\n",
       "453  KOR            Korea  2016  2016            36.7\n",
       "454  MEX           Mexico  2016  2016            16.5\n",
       "456  SVK  Slovak Republic  2016  2016            13.9"
      ]
     },
     "execution_count": 12,
     "metadata": {},
     "output_type": "execute_result"
    }
   ],
   "source": [
    "data_16_17_18.head()"
   ]
  },
  {
   "cell_type": "code",
   "execution_count": 13,
   "metadata": {},
   "outputs": [
    {
     "name": "stderr",
     "output_type": "stream",
     "text": [
      "/Users/shivangi/miniconda3/envs/myenv/lib/python3.7/site-packages/ipykernel_launcher.py:1: SettingWithCopyWarning: \n",
      "A value is trying to be set on a copy of a slice from a DataFrame\n",
      "\n",
      "See the caveats in the documentation: http://pandas.pydata.org/pandas-docs/stable/user_guide/indexing.html#returning-a-view-versus-a-copy\n",
      "  \"\"\"Entry point for launching an IPython kernel.\n"
     ]
    },
    {
     "data": {
      "image/png": "[encoded data removed]",
      "text/plain": [
       "<Figure size 864x504 with 1 Axes>"
      ]
     },
     "metadata": {
      "needs_background": "light"
     },
     "output_type": "display_data"
    }
   ],
   "source": [
    "data_16_17_18.sort_values('Gender Pay Gap',ascending=False, inplace=True)\n",
    "fig = plt.figure(figsize=(12,7))\n",
    "ax = sns.barplot(x='Gender Pay Gap', y='Country',hue='Time',data=data_16_17_18)"
   ]
  },
  {
   "cell_type": "code",
   "execution_count": 42,
   "metadata": {},
   "outputs": [
    {
     "name": "stderr",
     "output_type": "stream",
     "text": [
      "/Users/shivangi/miniconda3/envs/myenv/lib/python3.7/site-packages/ipykernel_launcher.py:1: SettingWithCopyWarning: \n",
      "A value is trying to be set on a copy of a slice from a DataFrame\n",
      "\n",
      "See the caveats in the documentation: http://pandas.pydata.org/pandas-docs/stable/user_guide/indexing.html#returning-a-view-versus-a-copy\n",
      "  \"\"\"Entry point for launching an IPython kernel.\n"
     ]
    },
    {
     "data": {
      "image/png": "[encoded data removed]",
      "text/plain": [
       "<Figure size 720x360 with 1 Axes>"
      ]
     },
     "metadata": {
      "needs_background": "light"
     },
     "output_type": "display_data"
    }
   ],
   "source": [
    "data_2018.sort_values('Gender Pay Gap',ascending=False, inplace=True)\n",
    "fig = plt.figure(figsize=(10,5))\n",
    "ax = sns.barplot(x='Gender Pay Gap', y='Country',data=data_2018[0:10])\n",
    "ax.set_title(\"10 countries reporting worst gender pay gap around the world (2018)\")\n",
    "#plotting the top 10 worst gender pay gaps\n",
    "for p in ax.patches:\n",
    "    _x = p.get_x() + p.get_width() + float(0.2)\n",
    "    _y = p.get_y() + p.get_height() + float(-0.2)\n",
    "    value = int(p.get_width())\n",
    "    ax.text(_x, _y, str(value) + \"%\", ha=\"left\")\n"
   ]
  },
  {
   "cell_type": "code",
   "execution_count": 43,
   "metadata": {},
   "outputs": [],
   "source": [
    "ax.figure.savefig('Visualizations/Top10Countries.png')"
   ]
  },
  {
   "cell_type": "code",
   "execution_count": 32,
   "metadata": {},
   "outputs": [
    {
     "data": {
      "text/plain": [
       "['Korea',\n",
       " 'United States',\n",
       " 'Canada',\n",
       " 'United Kingdom',\n",
       " 'Slovak Republic',\n",
       " 'Czech Republic',\n",
       " 'Mexico',\n",
       " 'Australia',\n",
       " 'New Zealand',\n",
       " 'Colombia']"
      ]
     },
     "execution_count": 32,
     "metadata": {},
     "output_type": "execute_result"
    }
   ],
   "source": [
    "countries_to_plot = []\n",
    "for i in range(0,10):\n",
    "    countries_to_plot.append(data_2018.iloc[i]['Country'])\n",
    "countries_to_plot"
   ]
  },
  {
   "cell_type": "code",
   "execution_count": 33,
   "metadata": {},
   "outputs": [],
   "source": [
    "plotting_data = data.loc[data['Country'].isin(countries_to_plot)]"
   ]
  },
  {
   "cell_type": "code",
   "execution_count": 34,
   "metadata": {},
   "outputs": [
    {
     "data": {
      "text/html": [
       "<div>\n",
       "<style scoped>\n",
       "    .dataframe tbody tr th:only-of-type {\n",
       "        vertical-align: middle;\n",
       "    }\n",
       "\n",
       "    .dataframe tbody tr th {\n",
       "        vertical-align: top;\n",
       "    }\n",
       "\n",
       "    .dataframe thead th {\n",
       "        text-align: right;\n",
       "    }\n",
       "</style>\n",
       "<table border=\"1\" class=\"dataframe\">\n",
       "  <thead>\n",
       "    <tr style=\"text-align: right;\">\n",
       "      <th></th>\n",
       "      <th>COU</th>\n",
       "      <th>Country</th>\n",
       "      <th>TIME</th>\n",
       "      <th>Time</th>\n",
       "      <th>Gender Pay Gap</th>\n",
       "    </tr>\n",
       "  </thead>\n",
       "  <tbody>\n",
       "    <tr>\n",
       "      <th>0</th>\n",
       "      <td>AUS</td>\n",
       "      <td>Australia</td>\n",
       "      <td>2000</td>\n",
       "      <td>2000</td>\n",
       "      <td>17.2</td>\n",
       "    </tr>\n",
       "    <tr>\n",
       "      <th>1</th>\n",
       "      <td>AUS</td>\n",
       "      <td>Australia</td>\n",
       "      <td>2001</td>\n",
       "      <td>2001</td>\n",
       "      <td>14.3</td>\n",
       "    </tr>\n",
       "    <tr>\n",
       "      <th>2</th>\n",
       "      <td>AUS</td>\n",
       "      <td>Australia</td>\n",
       "      <td>2002</td>\n",
       "      <td>2002</td>\n",
       "      <td>15.0</td>\n",
       "    </tr>\n",
       "    <tr>\n",
       "      <th>3</th>\n",
       "      <td>AUS</td>\n",
       "      <td>Australia</td>\n",
       "      <td>2003</td>\n",
       "      <td>2003</td>\n",
       "      <td>13.0</td>\n",
       "    </tr>\n",
       "    <tr>\n",
       "      <th>4</th>\n",
       "      <td>AUS</td>\n",
       "      <td>Australia</td>\n",
       "      <td>2004</td>\n",
       "      <td>2004</td>\n",
       "      <td>14.4</td>\n",
       "    </tr>\n",
       "  </tbody>\n",
       "</table>\n",
       "</div>"
      ],
      "text/plain": [
       "   COU    Country  TIME  Time  Gender Pay Gap\n",
       "0  AUS  Australia  2000  2000            17.2\n",
       "1  AUS  Australia  2001  2001            14.3\n",
       "2  AUS  Australia  2002  2002            15.0\n",
       "3  AUS  Australia  2003  2003            13.0\n",
       "4  AUS  Australia  2004  2004            14.4"
      ]
     },
     "execution_count": 34,
     "metadata": {},
     "output_type": "execute_result"
    }
   ],
   "source": [
    "plotting_data.head()"
   ]
  },
  {
   "cell_type": "code",
   "execution_count": 44,
   "metadata": {},
   "outputs": [
    {
     "data": {
      "text/plain": [
       "Text(0.5, 1.0, 'Gender pay gap trend over 18 years')"
      ]
     },
     "execution_count": 44,
     "metadata": {},
     "output_type": "execute_result"
    },
    {
     "data": {
      "image/png": "[encoded data removed]",
      "text/plain": [
       "<Figure size 720x360 with 1 Axes>"
      ]
     },
     "metadata": {
      "needs_background": "light"
     },
     "output_type": "display_data"
    }
   ],
   "source": [
    "fig = plt.figure(figsize=(10,5))\n",
    "sns_plot = sns.lineplot(x='Time',y='Gender Pay Gap',hue='Country', data=plotting_data, markers='o')\n",
    "sns_plot.set_title('Gender pay gap trend over 18 years')"
   ]
  },
  {
   "cell_type": "markdown",
   "metadata": {},
   "source": [
    "Not very obvious decreasing trend for the countries. Since most countries have not provided gender pay gap data (only 38 countries in 2014 in our dataset) this is only a partial story.\n",
    "\n",
    "(year looks messed up)"
   ]
  },
  {
   "cell_type": "code",
   "execution_count": 45,
   "metadata": {},
   "outputs": [],
   "source": [
    "sns_plot.figure.savefig('Visualizations/Country_time.png')"
   ]
  },
  {
   "cell_type": "code",
   "execution_count": null,
   "metadata": {},
   "outputs": [],
   "source": []
  }
 ],
 "metadata": {
  "kernelspec": {
   "display_name": "Python 3",
   "language": "python",
   "name": "python3"
  },
  "language_info": {
   "codemirror_mode": {
    "name": "ipython",
    "version": 3
   },
   "file_extension": ".py",
   "mimetype": "text/x-python",
   "name": "python",
   "nbconvert_exporter": "python",
   "pygments_lexer": "ipython3",
   "version": "3.7.4"
  }
 },
 "nbformat": 4,
 "nbformat_minor": 2
}
