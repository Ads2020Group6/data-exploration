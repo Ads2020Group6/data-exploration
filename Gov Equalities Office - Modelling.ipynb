{
 "cells": [
  {
   "cell_type": "markdown",
   "metadata": {},
   "source": [
    "## MODELLING - GPG - Government Equalities Office\n",
    "\n",
    "### Target: \"DiffMedianHourlyPercent\"\n",
    "\n",
    "#### 1 - General Preparation\n",
    "- Unnecessary Columns\n",
    "- Missing Values\n",
    "- Imputing Values\n",
    "\n",
    "#### 2 Feature Engineering\n",
    "- Quantizise Company Size\n",
    "- Include Company Sector\n",
    "\n",
    "### Linear Model\n",
    "Feature Engineering:\n"
   ]
  },
  {
   "cell_type": "code",
   "execution_count": 542,
   "metadata": {},
   "outputs": [],
   "source": [
    "import pandas as pd\n",
    "import seaborn as sns\n",
    "import matplotlib.pyplot as plt"
   ]
  },
  {
   "cell_type": "code",
   "execution_count": 543,
   "metadata": {},
   "outputs": [
    {
     "name": "stdout",
     "output_type": "stream",
     "text": [
      "Rows: 10562\n",
      "Cols: 25\n"
     ]
    }
   ],
   "source": [
    "df = None\n",
    "def load_data(df):\n",
    "    path = \"data/gender-pay-gap-uk-gov/2017.csv.gz\"\n",
    "    df = pd.read_csv(path, compression='gzip')\n",
    "    return df\n",
    "df = load_data(df)\n",
    "rows = df.shape[0]\n",
    "cols = df.shape[1]\n",
    "print(f\"Rows: {rows}\")\n",
    "print(f\"Cols: {cols}\")"
   ]
  },
  {
   "cell_type": "markdown",
   "metadata": {},
   "source": [
    "### 1 - General Preparation"
   ]
  },
  {
   "cell_type": "code",
   "execution_count": 544,
   "metadata": {},
   "outputs": [
    {
     "data": {
      "text/html": [
       "<div>\n",
       "<style scoped>\n",
       "    .dataframe tbody tr th:only-of-type {\n",
       "        vertical-align: middle;\n",
       "    }\n",
       "\n",
       "    .dataframe tbody tr th {\n",
       "        vertical-align: top;\n",
       "    }\n",
       "\n",
       "    .dataframe thead th {\n",
       "        text-align: right;\n",
       "    }\n",
       "</style>\n",
       "<table border=\"1\" class=\"dataframe\">\n",
       "  <thead>\n",
       "    <tr style=\"text-align: right;\">\n",
       "      <th></th>\n",
       "      <th>EmployerName</th>\n",
       "      <th>Address</th>\n",
       "      <th>CompanyNumber</th>\n",
       "      <th>SicCodes</th>\n",
       "      <th>DiffMeanHourlyPercent</th>\n",
       "      <th>DiffMedianHourlyPercent</th>\n",
       "      <th>DiffMeanBonusPercent</th>\n",
       "      <th>DiffMedianBonusPercent</th>\n",
       "      <th>MaleBonusPercent</th>\n",
       "      <th>FemaleBonusPercent</th>\n",
       "      <th>...</th>\n",
       "      <th>FemaleUpperMiddleQuartile</th>\n",
       "      <th>MaleTopQuartile</th>\n",
       "      <th>FemaleTopQuartile</th>\n",
       "      <th>CompanyLinkToGPGInfo</th>\n",
       "      <th>ResponsiblePerson</th>\n",
       "      <th>EmployerSize</th>\n",
       "      <th>CurrentName</th>\n",
       "      <th>SubmittedAfterTheDeadline</th>\n",
       "      <th>DueDate</th>\n",
       "      <th>DateSubmitted</th>\n",
       "    </tr>\n",
       "  </thead>\n",
       "  <tbody>\n",
       "    <tr>\n",
       "      <th>0</th>\n",
       "      <td>\"Bryanston School\",Incorporated</td>\n",
       "      <td>Bryanston House,\\r\\nBlandford,\\r\\nDorset,\\r\\nD...</td>\n",
       "      <td>00226143</td>\n",
       "      <td>85310</td>\n",
       "      <td>18.0</td>\n",
       "      <td>28.2</td>\n",
       "      <td>0.0</td>\n",
       "      <td>0.0</td>\n",
       "      <td>0.0</td>\n",
       "      <td>0.0</td>\n",
       "      <td>...</td>\n",
       "      <td>50.8</td>\n",
       "      <td>51.5</td>\n",
       "      <td>48.5</td>\n",
       "      <td>https://www.bryanston.co.uk/employment</td>\n",
       "      <td>Nick McRobb (Bursar and Clerk to the Governors)</td>\n",
       "      <td>500 to 999</td>\n",
       "      <td>BRYANSTON SCHOOL INCORPORATED</td>\n",
       "      <td>False</td>\n",
       "      <td>05/04/2018 00:00:00</td>\n",
       "      <td>27/03/2018 11:42:49</td>\n",
       "    </tr>\n",
       "    <tr>\n",
       "      <th>1</th>\n",
       "      <td>\"RED BAND\" CHEMICAL COMPANY, LIMITED</td>\n",
       "      <td>19 Smith's Place,\\r\\nLeith Walk,\\r\\nEdinburgh,...</td>\n",
       "      <td>SC016876</td>\n",
       "      <td>47730</td>\n",
       "      <td>2.3</td>\n",
       "      <td>-2.7</td>\n",
       "      <td>15.0</td>\n",
       "      <td>37.5</td>\n",
       "      <td>15.6</td>\n",
       "      <td>66.7</td>\n",
       "      <td>...</td>\n",
       "      <td>89.7</td>\n",
       "      <td>18.1</td>\n",
       "      <td>81.9</td>\n",
       "      <td>NaN</td>\n",
       "      <td>Philip Galt (Managing Director)</td>\n",
       "      <td>250 to 499</td>\n",
       "      <td>\"RED BAND\" CHEMICAL COMPANY, LIMITED</td>\n",
       "      <td>False</td>\n",
       "      <td>05/04/2018 00:00:00</td>\n",
       "      <td>28/03/2018 16:44:25</td>\n",
       "    </tr>\n",
       "    <tr>\n",
       "      <th>2</th>\n",
       "      <td>118 LIMITED</td>\n",
       "      <td>3 Alexandra Gate Ffordd Pengam,\\r\\nGround Floo...</td>\n",
       "      <td>03951948</td>\n",
       "      <td>61900</td>\n",
       "      <td>1.7</td>\n",
       "      <td>2.8</td>\n",
       "      <td>13.1</td>\n",
       "      <td>13.6</td>\n",
       "      <td>70.0</td>\n",
       "      <td>57.0</td>\n",
       "      <td>...</td>\n",
       "      <td>50.0</td>\n",
       "      <td>58.0</td>\n",
       "      <td>42.0</td>\n",
       "      <td>NaN</td>\n",
       "      <td>Emma Crowe (VP, Human Resources)</td>\n",
       "      <td>500 to 999</td>\n",
       "      <td>118 LIMITED</td>\n",
       "      <td>False</td>\n",
       "      <td>05/04/2018 00:00:00</td>\n",
       "      <td>27/03/2018 19:10:41</td>\n",
       "    </tr>\n",
       "  </tbody>\n",
       "</table>\n",
       "<p>3 rows × 25 columns</p>\n",
       "</div>"
      ],
      "text/plain": [
       "                           EmployerName  \\\n",
       "0       \"Bryanston School\",Incorporated   \n",
       "1  \"RED BAND\" CHEMICAL COMPANY, LIMITED   \n",
       "2                           118 LIMITED   \n",
       "\n",
       "                                             Address CompanyNumber SicCodes  \\\n",
       "0  Bryanston House,\\r\\nBlandford,\\r\\nDorset,\\r\\nD...      00226143    85310   \n",
       "1  19 Smith's Place,\\r\\nLeith Walk,\\r\\nEdinburgh,...      SC016876    47730   \n",
       "2  3 Alexandra Gate Ffordd Pengam,\\r\\nGround Floo...      03951948    61900   \n",
       "\n",
       "   DiffMeanHourlyPercent  DiffMedianHourlyPercent  DiffMeanBonusPercent  \\\n",
       "0                   18.0                     28.2                   0.0   \n",
       "1                    2.3                     -2.7                  15.0   \n",
       "2                    1.7                      2.8                  13.1   \n",
       "\n",
       "   DiffMedianBonusPercent  MaleBonusPercent  FemaleBonusPercent  ...  \\\n",
       "0                     0.0               0.0                 0.0  ...   \n",
       "1                    37.5              15.6                66.7  ...   \n",
       "2                    13.6              70.0                57.0  ...   \n",
       "\n",
       "   FemaleUpperMiddleQuartile  MaleTopQuartile  FemaleTopQuartile  \\\n",
       "0                       50.8             51.5               48.5   \n",
       "1                       89.7             18.1               81.9   \n",
       "2                       50.0             58.0               42.0   \n",
       "\n",
       "                     CompanyLinkToGPGInfo  \\\n",
       "0  https://www.bryanston.co.uk/employment   \n",
       "1                                     NaN   \n",
       "2                                     NaN   \n",
       "\n",
       "                                 ResponsiblePerson  EmployerSize  \\\n",
       "0  Nick McRobb (Bursar and Clerk to the Governors)    500 to 999   \n",
       "1                  Philip Galt (Managing Director)    250 to 499   \n",
       "2                 Emma Crowe (VP, Human Resources)    500 to 999   \n",
       "\n",
       "                            CurrentName  SubmittedAfterTheDeadline  \\\n",
       "0         BRYANSTON SCHOOL INCORPORATED                      False   \n",
       "1  \"RED BAND\" CHEMICAL COMPANY, LIMITED                      False   \n",
       "2                           118 LIMITED                      False   \n",
       "\n",
       "               DueDate        DateSubmitted  \n",
       "0  05/04/2018 00:00:00  27/03/2018 11:42:49  \n",
       "1  05/04/2018 00:00:00  28/03/2018 16:44:25  \n",
       "2  05/04/2018 00:00:00  27/03/2018 19:10:41  \n",
       "\n",
       "[3 rows x 25 columns]"
      ]
     },
     "execution_count": 544,
     "metadata": {},
     "output_type": "execute_result"
    }
   ],
   "source": [
    "df.head(3)"
   ]
  },
  {
   "cell_type": "code",
   "execution_count": 545,
   "metadata": {},
   "outputs": [
    {
     "name": "stdout",
     "output_type": "stream",
     "text": [
      "EmployerName                 10561\n",
      "Address                       9039\n",
      "CompanyNumber                 9203\n",
      "SicCodes                      1943\n",
      "DiffMeanHourlyPercent          829\n",
      "DiffMedianHourlyPercent        891\n",
      "DiffMeanBonusPercent          1763\n",
      "DiffMedianBonusPercent        1734\n",
      "MaleBonusPercent               978\n",
      "FemaleBonusPercent             979\n",
      "MaleLowerQuartile              980\n",
      "FemaleLowerQuartile            980\n",
      "MaleLowerMiddleQuartile        986\n",
      "FemaleLowerMiddleQuartile      986\n",
      "MaleUpperMiddleQuartile        974\n",
      "FemaleUpperMiddleQuartile      974\n",
      "MaleTopQuartile                944\n",
      "FemaleTopQuartile              944\n",
      "CompanyLinkToGPGInfo          6589\n",
      "ResponsiblePerson             7304\n",
      "EmployerSize                     7\n",
      "CurrentName                  10561\n",
      "SubmittedAfterTheDeadline        2\n",
      "DueDate                          2\n",
      "DateSubmitted                10474\n",
      "dtype: int64\n"
     ]
    }
   ],
   "source": [
    "print(df.nunique())"
   ]
  },
  {
   "cell_type": "code",
   "execution_count": 546,
   "metadata": {},
   "outputs": [
    {
     "data": {
      "text/plain": [
       "10113    https://admin.water-plus.co.uk/wpstrategic/med...\n",
       "746      https://www.axa.co.uk/contentassets/6d3042702d...\n",
       "6836                                                   NaN\n",
       "1379                       https://www.brose.com/coventry/\n",
       "7255                                                   NaN\n",
       "6608     https://www.oldmutualwealth.co.uk/globalassets...\n",
       "7860                            http://www.scottbader.com/\n",
       "789      https://www.babcockinternational.com/Who-We-Ar...\n",
       "1406     https://www.btplc.com/Purposefulbusiness/Ourap...\n",
       "8862     https://www.tescoplc.com/little-helps-plan/peo...\n",
       "Name: CompanyLinkToGPGInfo, dtype: object"
      ]
     },
     "execution_count": 546,
     "metadata": {},
     "output_type": "execute_result"
    }
   ],
   "source": [
    "df['DueDate'].value_counts()\n",
    "df['CompanyLinkToGPGInfo'].sample(10)"
   ]
  },
  {
   "cell_type": "markdown",
   "metadata": {},
   "source": [
    "### 2 - Feature Cleaning\n",
    "**Dropping Data:**\n",
    "- EmployerName / CurrentName: are unique in every row\n",
    "- CompanyLinkToGPGInfo: contains urls\n",
    "- ResponsiblePerson: Maybe we could check whether the companies that didn't fill this field also skipped PDFs or if they're incomplete or have a pattern.\n",
    "- DueDate / DateSubmitted / SubmittedAfterTheDeadline "
   ]
  },
  {
   "cell_type": "code",
   "execution_count": 547,
   "metadata": {},
   "outputs": [
    {
     "data": {
      "text/plain": [
       "(10562, 25)"
      ]
     },
     "execution_count": 547,
     "metadata": {},
     "output_type": "execute_result"
    }
   ],
   "source": [
    "columns_to_drop = [\n",
    "    'EmployerName','CurrentName','CompanyNumber',\n",
    "    'CompanyLinkToGPGInfo','ResponsiblePerson',\n",
    "    'DueDate','DateSubmitted','SubmittedAfterTheDeadline'\n",
    "]\n",
    "df_cols = df.drop(columns_to_drop, axis='columns')\n",
    "df.shape"
   ]
  },
  {
   "cell_type": "markdown",
   "metadata": {},
   "source": [
    "#### Imputing values"
   ]
  },
  {
   "cell_type": "code",
   "execution_count": 548,
   "metadata": {},
   "outputs": [
    {
     "data": {
      "text/plain": [
       "Address                      0.974153\n",
       "SicCodes                     0.946317\n",
       "DiffMeanHourlyPercent        1.000000\n",
       "DiffMedianHourlyPercent      1.000000\n",
       "DiffMeanBonusPercent         0.998106\n",
       "DiffMedianBonusPercent       0.998106\n",
       "MaleBonusPercent             1.000000\n",
       "FemaleBonusPercent           1.000000\n",
       "MaleLowerQuartile            1.000000\n",
       "FemaleLowerQuartile          1.000000\n",
       "MaleLowerMiddleQuartile      1.000000\n",
       "FemaleLowerMiddleQuartile    1.000000\n",
       "MaleUpperMiddleQuartile      1.000000\n",
       "FemaleUpperMiddleQuartile    1.000000\n",
       "MaleTopQuartile              1.000000\n",
       "FemaleTopQuartile            1.000000\n",
       "EmployerSize                 1.000000\n",
       "dtype: float64"
      ]
     },
     "execution_count": 548,
     "metadata": {},
     "output_type": "execute_result"
    }
   ],
   "source": [
    "def check_presence(df):\n",
    "    return df.notnull().sum() / df.shape[0]\n",
    "check_presence(df_cols)"
   ]
  },
  {
   "cell_type": "code",
   "execution_count": 549,
   "metadata": {},
   "outputs": [
    {
     "data": {
      "text/plain": [
       "Address                      0.974153\n",
       "SicCodes                     0.946317\n",
       "DiffMeanHourlyPercent        1.000000\n",
       "DiffMedianHourlyPercent      1.000000\n",
       "DiffMeanBonusPercent         1.000000\n",
       "DiffMedianBonusPercent       1.000000\n",
       "MaleBonusPercent             1.000000\n",
       "FemaleBonusPercent           1.000000\n",
       "MaleLowerQuartile            1.000000\n",
       "FemaleLowerQuartile          1.000000\n",
       "MaleLowerMiddleQuartile      1.000000\n",
       "FemaleLowerMiddleQuartile    1.000000\n",
       "MaleUpperMiddleQuartile      1.000000\n",
       "FemaleUpperMiddleQuartile    1.000000\n",
       "MaleTopQuartile              1.000000\n",
       "FemaleTopQuartile            1.000000\n",
       "EmployerSize                 1.000000\n",
       "dtype: float64"
      ]
     },
     "execution_count": 549,
     "metadata": {},
     "output_type": "execute_result"
    }
   ],
   "source": [
    "# Mean because the measurement is mean\n",
    "mean_bonus_percent = df_cols['DiffMeanBonusPercent'].mean()\n",
    "df_cols['DiffMeanBonusPercent'] = df_cols['DiffMeanBonusPercent'].fillna(mean_bonus_percent)\n",
    "\n",
    "# Median because the measurement is median\n",
    "median_bonus_percent = df['DiffMedianBonusPercent'].median()\n",
    "df_cols['DiffMedianBonusPercent'] = df_cols['DiffMedianBonusPercent'].fillna(median_bonus_percent)\n",
    "\n",
    "# Mode because it is categorical\n",
    "employer_size_mode = df_cols['EmployerSize'].mode()\n",
    "df_cols['EmployerSize'] = df_cols['EmployerSize'].fillna(employer_size_mode)\n",
    "\n",
    "# employer_size_mode\n",
    "check_presence(df_cols)"
   ]
  },
  {
   "cell_type": "code",
   "execution_count": 550,
   "metadata": {},
   "outputs": [
    {
     "data": {
      "text/plain": [
       "250 to 499        5026\n",
       "500 to 999        2534\n",
       "1000 to 4999      2208\n",
       "5000 to 19,999     441\n",
       "Less than 250      288\n",
       "20,000 or more      65\n",
       "Name: EmployerSize, dtype: int64"
      ]
     },
     "execution_count": 550,
     "metadata": {},
     "output_type": "execute_result"
    }
   ],
   "source": [
    "df_cols['EmployerSize'].replace('Not Provided', '250 to 499', inplace=True)\n",
    "df_cols['EmployerSize'].value_counts()\n",
    "# check_presence(df)"
   ]
  },
  {
   "cell_type": "markdown",
   "metadata": {},
   "source": [
    "#### EmpoyerSize range to quantitative category"
   ]
  },
  {
   "cell_type": "code",
   "execution_count": 551,
   "metadata": {
    "scrolled": false
   },
   "outputs": [
    {
     "data": {
      "text/plain": [
       "375      5026\n",
       "750      2534\n",
       "2500     2208\n",
       "15000     441\n",
       "125       288\n",
       "35000      65\n",
       "Name: EmployerSize, dtype: int64"
      ]
     },
     "execution_count": 551,
     "metadata": {},
     "output_type": "execute_result"
    }
   ],
   "source": [
    "# Could come a copy here.\n",
    "cat_to_quant = {\n",
    " 'Less than 250' : 125,\n",
    " '250 to 499' : 375,\n",
    " '500 to 999': 750,\n",
    " '1000 to 4999' : 2500,\n",
    " '5000 to 19,999': 15000,\n",
    " '20,000 or more': 35000\n",
    "}\n",
    "\n",
    "# ONE TIME EXECUTION\n",
    "df_cols['EmployerSize'] = df_cols['EmployerSize'].map(cat_to_quant)\n",
    "\n",
    "df_cols['EmployerSize'].value_counts()\n",
    "# check_presence(df)"
   ]
  },
  {
   "cell_type": "markdown",
   "metadata": {},
   "source": [
    "### 3 Linear Model - Raw"
   ]
  },
  {
   "cell_type": "code",
   "execution_count": 552,
   "metadata": {},
   "outputs": [],
   "source": [
    "from sklearn.linear_model import LinearRegression\n",
    "from sklearn.model_selection import train_test_split\n",
    "from sklearn.metrics import r2_score"
   ]
  },
  {
   "cell_type": "code",
   "execution_count": 553,
   "metadata": {},
   "outputs": [],
   "source": [
    "def split_data(data, target, features):\n",
    "    X = data[features]\n",
    "    y = data[target]\n",
    "    return train_test_split(X, y, random_state=42)"
   ]
  },
  {
   "cell_type": "code",
   "execution_count": 587,
   "metadata": {},
   "outputs": [
    {
     "name": "stdout",
     "output_type": "stream",
     "text": [
      "(7921, 13) (7921,)\n",
      "(2641, 13) (2641,)\n"
     ]
    }
   ],
   "source": [
    "features = [\n",
    "    'DiffMeanBonusPercent', 'DiffMedianBonusPercent',\n",
    "    'MaleBonusPercent', 'FemaleBonusPercent',\n",
    "    'MaleLowerQuartile', 'FemaleLowerQuartile',\n",
    "    'MaleLowerMiddleQuartile', 'FemaleLowerMiddleQuartile',\n",
    "    'MaleUpperMiddleQuartile', 'FemaleUpperMiddleQuartile',\n",
    "    'MaleTopQuartile', 'FemaleTopQuartile', 'EmployerSize'\n",
    "]\n",
    "\n",
    "target = 'DiffMedianHourlyPercent'\n",
    "X_train, X_test, y_train, y_test = split_data(df_cols, target, features)\n",
    "print(X_train.shape, y_train.shape)\n",
    "print(X_test.shape, y_test.shape)"
   ]
  },
  {
   "cell_type": "code",
   "execution_count": 588,
   "metadata": {},
   "outputs": [
    {
     "data": {
      "text/plain": [
       "LinearRegression(copy_X=True, fit_intercept=True, n_jobs=None, normalize=True)"
      ]
     },
     "execution_count": 588,
     "metadata": {},
     "output_type": "execute_result"
    }
   ],
   "source": [
    "def learn(X_train, y_train):\n",
    "    linear_reg = LinearRegression(normalize=True)\n",
    "    linear_reg.fit(X_train, y_train)\n",
    "    return linear_reg\n",
    "\n",
    "line_reg = learn(X_train, y_train)\n",
    "line_reg"
   ]
  },
  {
   "cell_type": "code",
   "execution_count": 589,
   "metadata": {},
   "outputs": [
    {
     "name": "stdout",
     "output_type": "stream",
     "text": [
      "Train Score: [0.49322808]\n",
      "Test Score: [0.5006404]\n"
     ]
    }
   ],
   "source": [
    "def evaluate(model, X, y):\n",
    "    y_preds = model.predict(X)\n",
    "    return r2_score(y, y_preds, multioutput='raw_values')\n",
    "\n",
    "train_score = evaluate(line_reg,X_train,y_train)\n",
    "test_score = evaluate(line_reg,X_test,y_test)\n",
    "    \n",
    "print(\"Train Score:\", train_score)\n",
    "print(\"Test Score:\", test_score)"
   ]
  },
  {
   "cell_type": "code",
   "execution_count": 590,
   "metadata": {},
   "outputs": [
    {
     "data": {
      "text/html": [
       "<div>\n",
       "<style scoped>\n",
       "    .dataframe tbody tr th:only-of-type {\n",
       "        vertical-align: middle;\n",
       "    }\n",
       "\n",
       "    .dataframe tbody tr th {\n",
       "        vertical-align: top;\n",
       "    }\n",
       "\n",
       "    .dataframe thead th {\n",
       "        text-align: right;\n",
       "    }\n",
       "</style>\n",
       "<table border=\"1\" class=\"dataframe\">\n",
       "  <thead>\n",
       "    <tr style=\"text-align: right;\">\n",
       "      <th></th>\n",
       "      <th>Column</th>\n",
       "      <th>Coeff</th>\n",
       "      <th>AbsCoeff</th>\n",
       "    </tr>\n",
       "  </thead>\n",
       "  <tbody>\n",
       "    <tr>\n",
       "      <th>4</th>\n",
       "      <td>MaleLowerQuartile</td>\n",
       "      <td>-0.299702</td>\n",
       "      <td>0.299702</td>\n",
       "    </tr>\n",
       "    <tr>\n",
       "      <th>5</th>\n",
       "      <td>FemaleLowerQuartile</td>\n",
       "      <td>0.299702</td>\n",
       "      <td>0.299702</td>\n",
       "    </tr>\n",
       "    <tr>\n",
       "      <th>10</th>\n",
       "      <td>MaleTopQuartile</td>\n",
       "      <td>0.252454</td>\n",
       "      <td>0.252454</td>\n",
       "    </tr>\n",
       "    <tr>\n",
       "      <th>11</th>\n",
       "      <td>FemaleTopQuartile</td>\n",
       "      <td>-0.252454</td>\n",
       "      <td>0.252454</td>\n",
       "    </tr>\n",
       "    <tr>\n",
       "      <th>9</th>\n",
       "      <td>FemaleUpperMiddleQuartile</td>\n",
       "      <td>-0.171164</td>\n",
       "      <td>0.171164</td>\n",
       "    </tr>\n",
       "    <tr>\n",
       "      <th>8</th>\n",
       "      <td>MaleUpperMiddleQuartile</td>\n",
       "      <td>0.171164</td>\n",
       "      <td>0.171164</td>\n",
       "    </tr>\n",
       "    <tr>\n",
       "      <th>7</th>\n",
       "      <td>FemaleLowerMiddleQuartile</td>\n",
       "      <td>0.147477</td>\n",
       "      <td>0.147477</td>\n",
       "    </tr>\n",
       "    <tr>\n",
       "      <th>6</th>\n",
       "      <td>MaleLowerMiddleQuartile</td>\n",
       "      <td>-0.147477</td>\n",
       "      <td>0.147477</td>\n",
       "    </tr>\n",
       "    <tr>\n",
       "      <th>2</th>\n",
       "      <td>MaleBonusPercent</td>\n",
       "      <td>0.035340</td>\n",
       "      <td>0.035340</td>\n",
       "    </tr>\n",
       "    <tr>\n",
       "      <th>3</th>\n",
       "      <td>FemaleBonusPercent</td>\n",
       "      <td>-0.021573</td>\n",
       "      <td>0.021573</td>\n",
       "    </tr>\n",
       "    <tr>\n",
       "      <th>0</th>\n",
       "      <td>DiffMeanBonusPercent</td>\n",
       "      <td>0.000168</td>\n",
       "      <td>0.000168</td>\n",
       "    </tr>\n",
       "    <tr>\n",
       "      <th>12</th>\n",
       "      <td>EmployerSize</td>\n",
       "      <td>-0.000137</td>\n",
       "      <td>0.000137</td>\n",
       "    </tr>\n",
       "    <tr>\n",
       "      <th>1</th>\n",
       "      <td>DiffMedianBonusPercent</td>\n",
       "      <td>-0.000056</td>\n",
       "      <td>0.000056</td>\n",
       "    </tr>\n",
       "  </tbody>\n",
       "</table>\n",
       "</div>"
      ],
      "text/plain": [
       "                       Column     Coeff  AbsCoeff\n",
       "4           MaleLowerQuartile -0.299702  0.299702\n",
       "5         FemaleLowerQuartile  0.299702  0.299702\n",
       "10            MaleTopQuartile  0.252454  0.252454\n",
       "11          FemaleTopQuartile -0.252454  0.252454\n",
       "9   FemaleUpperMiddleQuartile -0.171164  0.171164\n",
       "8     MaleUpperMiddleQuartile  0.171164  0.171164\n",
       "7   FemaleLowerMiddleQuartile  0.147477  0.147477\n",
       "6     MaleLowerMiddleQuartile -0.147477  0.147477\n",
       "2            MaleBonusPercent  0.035340  0.035340\n",
       "3          FemaleBonusPercent -0.021573  0.021573\n",
       "0        DiffMeanBonusPercent  0.000168  0.000168\n",
       "12               EmployerSize -0.000137  0.000137\n",
       "1      DiffMedianBonusPercent -0.000056  0.000056"
      ]
     },
     "execution_count": 590,
     "metadata": {},
     "output_type": "execute_result"
    }
   ],
   "source": [
    "### Feature Analysis\n",
    "coeff_df = pd.DataFrame({'Column': list(X_train.columns), 'Coeff': line_reg.coef_})\n",
    "coeff_df['AbsCoeff'] = abs(coeff_df['Coeff'])\n",
    "coeff_df.sort_values(by=[\"AbsCoeff\"], ascending=False)"
   ]
  },
  {
   "cell_type": "markdown",
   "metadata": {},
   "source": [
    "- It looks like Lower and Upper quartiles explain hourly difference.\n",
    "- Followed by Upped Quartiles in less relevance\n",
    "- Apparently Bonuses don't influence much.  Are `XBonusPercent` and `DiffXBonusPercent` really irrelevant`DiffHourly`? TODO: Check anomalies.\n",
    "\n",
    "I still believe `EmployerSize` explains the pay gap, but maybe not? TODO: Don't use numers, use categories."
   ]
  },
  {
   "cell_type": "markdown",
   "metadata": {},
   "source": [
    "#### Include Industry Categories - Prepare Sic Codes\n",
    "Details are present in EDA Notebook."
   ]
  },
  {
   "cell_type": "code",
   "execution_count": 591,
   "metadata": {},
   "outputs": [
    {
     "data": {
      "text/plain": [
       "nan                                    567\n",
       "82990                                  446\n",
       "1                                      336\n",
       "1,\\r\\n84110                            306\n",
       "70100                                  277\n",
       "                                      ... \n",
       "47429                                    1\n",
       "78101,\\r\\n85310                          1\n",
       "41202,\\r\\n43290,\\r\\n43910,\\r\\n43999      1\n",
       "8110,\\r\\n38110,\\r\\n38320,\\r\\n43120       1\n",
       "8120,\\r\\n23510,\\r\\n23610,\\r\\n23630       1\n",
       "Name: SicCodes, Length: 1944, dtype: int64"
      ]
     },
     "execution_count": 591,
     "metadata": {},
     "output_type": "execute_result"
    }
   ],
   "source": [
    "df_cols['SicCodes'] = df_cols['SicCodes'].astype(str)\n",
    "df_cols['SicCodes'].value_counts()"
   ]
  },
  {
   "cell_type": "code",
   "execution_count": 592,
   "metadata": {
    "scrolled": true
   },
   "outputs": [],
   "source": [
    "df_cols['SicCodes'] = df_cols['SicCodes'].apply(lambda sic_code: sic_code\\\n",
    "                                         .replace('\\r','').replace('\\n','')\\\n",
    "                                         .split(','))"
   ]
  },
  {
   "cell_type": "code",
   "execution_count": 593,
   "metadata": {},
   "outputs": [
    {
     "name": "stdout",
     "output_type": "stream",
     "text": [
      "(10562, 17)\n",
      "(15499, 17)\n"
     ]
    },
    {
     "data": {
      "text/plain": [
       "1        1733\n",
       "nan       567\n",
       "82990     566\n",
       "85310     565\n",
       "70100     372\n",
       "         ... \n",
       "18201       1\n",
       "12000       1\n",
       "82190       1\n",
       "10620       1\n",
       "26600       1\n",
       "Name: SicCodes, Length: 622, dtype: int64"
      ]
     },
     "execution_count": 593,
     "metadata": {},
     "output_type": "execute_result"
    }
   ],
   "source": [
    "print(df_cols.shape)\n",
    "df_cols = df_cols.explode('SicCodes')\n",
    "print(df_cols.shape)\n",
    "df_cols['SicCodes'].value_counts()"
   ]
  },
  {
   "cell_type": "code",
   "execution_count": 594,
   "metadata": {},
   "outputs": [
    {
     "data": {
      "text/plain": [
       "1        1733\n",
       "0         567\n",
       "82990     566\n",
       "85310     565\n",
       "85200     372\n",
       "         ... \n",
       "14310       1\n",
       "14120       1\n",
       "10730       1\n",
       "74203       1\n",
       "30400       1\n",
       "Name: SicCodes, Length: 622, dtype: int64"
      ]
     },
     "execution_count": 594,
     "metadata": {},
     "output_type": "execute_result"
    }
   ],
   "source": [
    "df_cols['SicCodes'] = df_cols['SicCodes'].replace(to_replace='nan', value='0')\n",
    "df_cols['SicCodes'] = df_cols['SicCodes'].astype(int)\n",
    "df_cols['SicCodes'].value_counts()"
   ]
  },
  {
   "cell_type": "markdown",
   "metadata": {},
   "source": [
    "#### Include Industry Categories - Merge Sic Codes"
   ]
  },
  {
   "cell_type": "code",
   "execution_count": 595,
   "metadata": {},
   "outputs": [
    {
     "data": {
      "text/plain": [
       "(731, 5)"
      ]
     },
     "execution_count": 595,
     "metadata": {},
     "output_type": "execute_result"
    }
   ],
   "source": [
    "sic_codes = pd.read_csv(\"data/siccodes/uk-sic-2007-condensed_csv.csv\")\n",
    "sic_codes.shape"
   ]
  },
  {
   "cell_type": "code",
   "execution_count": 596,
   "metadata": {},
   "outputs": [
    {
     "name": "stdout",
     "output_type": "stream",
     "text": [
      "Index(['SicCodes', 'sic_description', 'section', 'SectionDesc'], dtype='object')\n"
     ]
    }
   ],
   "source": [
    "sic_codes.drop('sic_version', axis='columns', inplace=True) # One Time Execution\n",
    "sic_codes.rename(columns={\"sic_code\": \"SicCodes\", \"section_description\": \"SectionDesc\"}, inplace=True)\n",
    "df_cols['SicCodes'] = df_cols['SicCodes'].astype(int)\n",
    "print(sic_codes.columns)"
   ]
  },
  {
   "cell_type": "markdown",
   "metadata": {},
   "source": [
    "#### Generate Dummy Values"
   ]
  },
  {
   "cell_type": "code",
   "execution_count": 597,
   "metadata": {},
   "outputs": [
    {
     "data": {
      "text/html": [
       "<div>\n",
       "<style scoped>\n",
       "    .dataframe tbody tr th:only-of-type {\n",
       "        vertical-align: middle;\n",
       "    }\n",
       "\n",
       "    .dataframe tbody tr th {\n",
       "        vertical-align: top;\n",
       "    }\n",
       "\n",
       "    .dataframe thead th {\n",
       "        text-align: right;\n",
       "    }\n",
       "</style>\n",
       "<table border=\"1\" class=\"dataframe\">\n",
       "  <thead>\n",
       "    <tr style=\"text-align: right;\">\n",
       "      <th></th>\n",
       "      <th>SectionDesc</th>\n",
       "      <th>section</th>\n",
       "    </tr>\n",
       "  </thead>\n",
       "  <tbody>\n",
       "    <tr>\n",
       "      <th>90</th>\n",
       "      <td>Manufacturing</td>\n",
       "      <td>C</td>\n",
       "    </tr>\n",
       "    <tr>\n",
       "      <th>290</th>\n",
       "      <td>Manufacturing</td>\n",
       "      <td>C</td>\n",
       "    </tr>\n",
       "    <tr>\n",
       "      <th>214</th>\n",
       "      <td>Manufacturing</td>\n",
       "      <td>C</td>\n",
       "    </tr>\n",
       "    <tr>\n",
       "      <th>452</th>\n",
       "      <td>Wholesale and retail trade; repair of motor ve...</td>\n",
       "      <td>G</td>\n",
       "    </tr>\n",
       "    <tr>\n",
       "      <th>628</th>\n",
       "      <td>Administrative and support service activities</td>\n",
       "      <td>N</td>\n",
       "    </tr>\n",
       "  </tbody>\n",
       "</table>\n",
       "</div>"
      ],
      "text/plain": [
       "                                           SectionDesc section\n",
       "90                                       Manufacturing       C\n",
       "290                                      Manufacturing       C\n",
       "214                                      Manufacturing       C\n",
       "452  Wholesale and retail trade; repair of motor ve...       G\n",
       "628      Administrative and support service activities       N"
      ]
     },
     "execution_count": 597,
     "metadata": {},
     "output_type": "execute_result"
    }
   ],
   "source": [
    "# 'section' column encodes the Industry sector with letters [A-U]\n",
    "sic_codes[['SectionDesc','section']].nunique()\n",
    "sic_codes[['SectionDesc','section']].sample(5)"
   ]
  },
  {
   "cell_type": "code",
   "execution_count": 598,
   "metadata": {},
   "outputs": [
    {
     "data": {
      "text/html": [
       "<div>\n",
       "<style scoped>\n",
       "    .dataframe tbody tr th:only-of-type {\n",
       "        vertical-align: middle;\n",
       "    }\n",
       "\n",
       "    .dataframe tbody tr th {\n",
       "        vertical-align: top;\n",
       "    }\n",
       "\n",
       "    .dataframe thead th {\n",
       "        text-align: right;\n",
       "    }\n",
       "</style>\n",
       "<table border=\"1\" class=\"dataframe\">\n",
       "  <thead>\n",
       "    <tr style=\"text-align: right;\">\n",
       "      <th></th>\n",
       "      <th>SectA</th>\n",
       "      <th>SectB</th>\n",
       "      <th>SectC</th>\n",
       "      <th>SectD</th>\n",
       "      <th>SectE</th>\n",
       "      <th>SectF</th>\n",
       "      <th>SectG</th>\n",
       "      <th>SectH</th>\n",
       "      <th>SectI</th>\n",
       "      <th>SectJ</th>\n",
       "      <th>...</th>\n",
       "      <th>SectL</th>\n",
       "      <th>SectM</th>\n",
       "      <th>SectN</th>\n",
       "      <th>SectO</th>\n",
       "      <th>SectP</th>\n",
       "      <th>SectQ</th>\n",
       "      <th>SectR</th>\n",
       "      <th>SectS</th>\n",
       "      <th>SectT</th>\n",
       "      <th>SectU</th>\n",
       "    </tr>\n",
       "  </thead>\n",
       "  <tbody>\n",
       "    <tr>\n",
       "      <th>0</th>\n",
       "      <td>1</td>\n",
       "      <td>0</td>\n",
       "      <td>0</td>\n",
       "      <td>0</td>\n",
       "      <td>0</td>\n",
       "      <td>0</td>\n",
       "      <td>0</td>\n",
       "      <td>0</td>\n",
       "      <td>0</td>\n",
       "      <td>0</td>\n",
       "      <td>...</td>\n",
       "      <td>0</td>\n",
       "      <td>0</td>\n",
       "      <td>0</td>\n",
       "      <td>0</td>\n",
       "      <td>0</td>\n",
       "      <td>0</td>\n",
       "      <td>0</td>\n",
       "      <td>0</td>\n",
       "      <td>0</td>\n",
       "      <td>0</td>\n",
       "    </tr>\n",
       "    <tr>\n",
       "      <th>1</th>\n",
       "      <td>1</td>\n",
       "      <td>0</td>\n",
       "      <td>0</td>\n",
       "      <td>0</td>\n",
       "      <td>0</td>\n",
       "      <td>0</td>\n",
       "      <td>0</td>\n",
       "      <td>0</td>\n",
       "      <td>0</td>\n",
       "      <td>0</td>\n",
       "      <td>...</td>\n",
       "      <td>0</td>\n",
       "      <td>0</td>\n",
       "      <td>0</td>\n",
       "      <td>0</td>\n",
       "      <td>0</td>\n",
       "      <td>0</td>\n",
       "      <td>0</td>\n",
       "      <td>0</td>\n",
       "      <td>0</td>\n",
       "      <td>0</td>\n",
       "    </tr>\n",
       "    <tr>\n",
       "      <th>2</th>\n",
       "      <td>1</td>\n",
       "      <td>0</td>\n",
       "      <td>0</td>\n",
       "      <td>0</td>\n",
       "      <td>0</td>\n",
       "      <td>0</td>\n",
       "      <td>0</td>\n",
       "      <td>0</td>\n",
       "      <td>0</td>\n",
       "      <td>0</td>\n",
       "      <td>...</td>\n",
       "      <td>0</td>\n",
       "      <td>0</td>\n",
       "      <td>0</td>\n",
       "      <td>0</td>\n",
       "      <td>0</td>\n",
       "      <td>0</td>\n",
       "      <td>0</td>\n",
       "      <td>0</td>\n",
       "      <td>0</td>\n",
       "      <td>0</td>\n",
       "    </tr>\n",
       "    <tr>\n",
       "      <th>3</th>\n",
       "      <td>1</td>\n",
       "      <td>0</td>\n",
       "      <td>0</td>\n",
       "      <td>0</td>\n",
       "      <td>0</td>\n",
       "      <td>0</td>\n",
       "      <td>0</td>\n",
       "      <td>0</td>\n",
       "      <td>0</td>\n",
       "      <td>0</td>\n",
       "      <td>...</td>\n",
       "      <td>0</td>\n",
       "      <td>0</td>\n",
       "      <td>0</td>\n",
       "      <td>0</td>\n",
       "      <td>0</td>\n",
       "      <td>0</td>\n",
       "      <td>0</td>\n",
       "      <td>0</td>\n",
       "      <td>0</td>\n",
       "      <td>0</td>\n",
       "    </tr>\n",
       "    <tr>\n",
       "      <th>4</th>\n",
       "      <td>1</td>\n",
       "      <td>0</td>\n",
       "      <td>0</td>\n",
       "      <td>0</td>\n",
       "      <td>0</td>\n",
       "      <td>0</td>\n",
       "      <td>0</td>\n",
       "      <td>0</td>\n",
       "      <td>0</td>\n",
       "      <td>0</td>\n",
       "      <td>...</td>\n",
       "      <td>0</td>\n",
       "      <td>0</td>\n",
       "      <td>0</td>\n",
       "      <td>0</td>\n",
       "      <td>0</td>\n",
       "      <td>0</td>\n",
       "      <td>0</td>\n",
       "      <td>0</td>\n",
       "      <td>0</td>\n",
       "      <td>0</td>\n",
       "    </tr>\n",
       "    <tr>\n",
       "      <th>...</th>\n",
       "      <td>...</td>\n",
       "      <td>...</td>\n",
       "      <td>...</td>\n",
       "      <td>...</td>\n",
       "      <td>...</td>\n",
       "      <td>...</td>\n",
       "      <td>...</td>\n",
       "      <td>...</td>\n",
       "      <td>...</td>\n",
       "      <td>...</td>\n",
       "      <td>...</td>\n",
       "      <td>...</td>\n",
       "      <td>...</td>\n",
       "      <td>...</td>\n",
       "      <td>...</td>\n",
       "      <td>...</td>\n",
       "      <td>...</td>\n",
       "      <td>...</td>\n",
       "      <td>...</td>\n",
       "      <td>...</td>\n",
       "      <td>...</td>\n",
       "    </tr>\n",
       "    <tr>\n",
       "      <th>726</th>\n",
       "      <td>0</td>\n",
       "      <td>0</td>\n",
       "      <td>0</td>\n",
       "      <td>0</td>\n",
       "      <td>0</td>\n",
       "      <td>0</td>\n",
       "      <td>0</td>\n",
       "      <td>0</td>\n",
       "      <td>0</td>\n",
       "      <td>0</td>\n",
       "      <td>...</td>\n",
       "      <td>0</td>\n",
       "      <td>0</td>\n",
       "      <td>0</td>\n",
       "      <td>0</td>\n",
       "      <td>0</td>\n",
       "      <td>0</td>\n",
       "      <td>0</td>\n",
       "      <td>0</td>\n",
       "      <td>1</td>\n",
       "      <td>0</td>\n",
       "    </tr>\n",
       "    <tr>\n",
       "      <th>727</th>\n",
       "      <td>0</td>\n",
       "      <td>0</td>\n",
       "      <td>0</td>\n",
       "      <td>0</td>\n",
       "      <td>0</td>\n",
       "      <td>0</td>\n",
       "      <td>0</td>\n",
       "      <td>0</td>\n",
       "      <td>0</td>\n",
       "      <td>0</td>\n",
       "      <td>...</td>\n",
       "      <td>0</td>\n",
       "      <td>0</td>\n",
       "      <td>0</td>\n",
       "      <td>0</td>\n",
       "      <td>0</td>\n",
       "      <td>0</td>\n",
       "      <td>0</td>\n",
       "      <td>0</td>\n",
       "      <td>1</td>\n",
       "      <td>0</td>\n",
       "    </tr>\n",
       "    <tr>\n",
       "      <th>728</th>\n",
       "      <td>0</td>\n",
       "      <td>0</td>\n",
       "      <td>0</td>\n",
       "      <td>0</td>\n",
       "      <td>0</td>\n",
       "      <td>0</td>\n",
       "      <td>0</td>\n",
       "      <td>0</td>\n",
       "      <td>0</td>\n",
       "      <td>0</td>\n",
       "      <td>...</td>\n",
       "      <td>0</td>\n",
       "      <td>0</td>\n",
       "      <td>0</td>\n",
       "      <td>0</td>\n",
       "      <td>0</td>\n",
       "      <td>0</td>\n",
       "      <td>0</td>\n",
       "      <td>0</td>\n",
       "      <td>1</td>\n",
       "      <td>0</td>\n",
       "    </tr>\n",
       "    <tr>\n",
       "      <th>729</th>\n",
       "      <td>0</td>\n",
       "      <td>0</td>\n",
       "      <td>0</td>\n",
       "      <td>0</td>\n",
       "      <td>0</td>\n",
       "      <td>0</td>\n",
       "      <td>0</td>\n",
       "      <td>0</td>\n",
       "      <td>0</td>\n",
       "      <td>0</td>\n",
       "      <td>...</td>\n",
       "      <td>0</td>\n",
       "      <td>0</td>\n",
       "      <td>0</td>\n",
       "      <td>0</td>\n",
       "      <td>0</td>\n",
       "      <td>0</td>\n",
       "      <td>0</td>\n",
       "      <td>0</td>\n",
       "      <td>0</td>\n",
       "      <td>1</td>\n",
       "    </tr>\n",
       "    <tr>\n",
       "      <th>730</th>\n",
       "      <td>0</td>\n",
       "      <td>0</td>\n",
       "      <td>0</td>\n",
       "      <td>0</td>\n",
       "      <td>0</td>\n",
       "      <td>0</td>\n",
       "      <td>0</td>\n",
       "      <td>0</td>\n",
       "      <td>0</td>\n",
       "      <td>0</td>\n",
       "      <td>...</td>\n",
       "      <td>0</td>\n",
       "      <td>0</td>\n",
       "      <td>0</td>\n",
       "      <td>0</td>\n",
       "      <td>0</td>\n",
       "      <td>0</td>\n",
       "      <td>0</td>\n",
       "      <td>0</td>\n",
       "      <td>0</td>\n",
       "      <td>1</td>\n",
       "    </tr>\n",
       "  </tbody>\n",
       "</table>\n",
       "<p>731 rows × 21 columns</p>\n",
       "</div>"
      ],
      "text/plain": [
       "     SectA  SectB  SectC  SectD  SectE  SectF  SectG  SectH  SectI  SectJ  \\\n",
       "0        1      0      0      0      0      0      0      0      0      0   \n",
       "1        1      0      0      0      0      0      0      0      0      0   \n",
       "2        1      0      0      0      0      0      0      0      0      0   \n",
       "3        1      0      0      0      0      0      0      0      0      0   \n",
       "4        1      0      0      0      0      0      0      0      0      0   \n",
       "..     ...    ...    ...    ...    ...    ...    ...    ...    ...    ...   \n",
       "726      0      0      0      0      0      0      0      0      0      0   \n",
       "727      0      0      0      0      0      0      0      0      0      0   \n",
       "728      0      0      0      0      0      0      0      0      0      0   \n",
       "729      0      0      0      0      0      0      0      0      0      0   \n",
       "730      0      0      0      0      0      0      0      0      0      0   \n",
       "\n",
       "     ...  SectL  SectM  SectN  SectO  SectP  SectQ  SectR  SectS  SectT  SectU  \n",
       "0    ...      0      0      0      0      0      0      0      0      0      0  \n",
       "1    ...      0      0      0      0      0      0      0      0      0      0  \n",
       "2    ...      0      0      0      0      0      0      0      0      0      0  \n",
       "3    ...      0      0      0      0      0      0      0      0      0      0  \n",
       "4    ...      0      0      0      0      0      0      0      0      0      0  \n",
       "..   ...    ...    ...    ...    ...    ...    ...    ...    ...    ...    ...  \n",
       "726  ...      0      0      0      0      0      0      0      0      1      0  \n",
       "727  ...      0      0      0      0      0      0      0      0      1      0  \n",
       "728  ...      0      0      0      0      0      0      0      0      1      0  \n",
       "729  ...      0      0      0      0      0      0      0      0      0      1  \n",
       "730  ...      0      0      0      0      0      0      0      0      0      1  \n",
       "\n",
       "[731 rows x 21 columns]"
      ]
     },
     "execution_count": 598,
     "metadata": {},
     "output_type": "execute_result"
    }
   ],
   "source": [
    "sector_dummies = pd.get_dummies(sic_codes['section'], prefix=\"Sect\", prefix_sep=\"\")\n",
    "sector_dummies"
   ]
  },
  {
   "cell_type": "code",
   "execution_count": 599,
   "metadata": {},
   "outputs": [
    {
     "name": "stdout",
     "output_type": "stream",
     "text": [
      "(731, 4)\n",
      "(731, 25)\n"
     ]
    }
   ],
   "source": [
    "print(sic_codes.shape)\n",
    "sic_codes = pd.concat([sic_codes, sector_dummies], axis = 1) # One Time Execution\n",
    "print(sic_codes.shape)"
   ]
  },
  {
   "cell_type": "code",
   "execution_count": 600,
   "metadata": {},
   "outputs": [
    {
     "data": {
      "text/plain": [
       "(13199, 41)"
      ]
     },
     "execution_count": 600,
     "metadata": {},
     "output_type": "execute_result"
    }
   ],
   "source": [
    "df_sec = pd.merge(df_cols, sic_codes, on=['SicCodes']) # One Time execution\n",
    "df_sec.shape"
   ]
  },
  {
   "cell_type": "code",
   "execution_count": 601,
   "metadata": {},
   "outputs": [
    {
     "data": {
      "text/plain": [
       "Address                      0.998257\n",
       "SicCodes                     1.000000\n",
       "DiffMeanHourlyPercent        1.000000\n",
       "DiffMedianHourlyPercent      1.000000\n",
       "DiffMeanBonusPercent         1.000000\n",
       "DiffMedianBonusPercent       1.000000\n",
       "MaleBonusPercent             1.000000\n",
       "FemaleBonusPercent           1.000000\n",
       "MaleLowerQuartile            1.000000\n",
       "FemaleLowerQuartile          1.000000\n",
       "MaleLowerMiddleQuartile      1.000000\n",
       "FemaleLowerMiddleQuartile    1.000000\n",
       "MaleUpperMiddleQuartile      1.000000\n",
       "FemaleUpperMiddleQuartile    1.000000\n",
       "MaleTopQuartile              1.000000\n",
       "FemaleTopQuartile            1.000000\n",
       "EmployerSize                 1.000000\n",
       "sic_description              1.000000\n",
       "section                      1.000000\n",
       "SectionDesc                  1.000000\n",
       "SectA                        1.000000\n",
       "SectB                        1.000000\n",
       "SectC                        1.000000\n",
       "SectD                        1.000000\n",
       "SectE                        1.000000\n",
       "SectF                        1.000000\n",
       "SectG                        1.000000\n",
       "SectH                        1.000000\n",
       "SectI                        1.000000\n",
       "SectJ                        1.000000\n",
       "SectK                        1.000000\n",
       "SectL                        1.000000\n",
       "SectM                        1.000000\n",
       "SectN                        1.000000\n",
       "SectO                        1.000000\n",
       "SectP                        1.000000\n",
       "SectQ                        1.000000\n",
       "SectR                        1.000000\n",
       "SectS                        1.000000\n",
       "SectT                        1.000000\n",
       "SectU                        1.000000\n",
       "dtype: float64"
      ]
     },
     "execution_count": 601,
     "metadata": {},
     "output_type": "execute_result"
    }
   ],
   "source": [
    "check_presence(df_sec)"
   ]
  },
  {
   "cell_type": "code",
   "execution_count": 602,
   "metadata": {},
   "outputs": [
    {
     "data": {
      "text/plain": [
       "<matplotlib.axes._subplots.AxesSubplot at 0x132839c90>"
      ]
     },
     "execution_count": 602,
     "metadata": {},
     "output_type": "execute_result"
    },
    {
     "data": {
      "image/png": "[encoded data removed]",
      "text/plain": [
       "<Figure size 648x648 with 1 Axes>"
      ]
     },
     "metadata": {
      "needs_background": "light"
     },
     "output_type": "display_data"
    }
   ],
   "source": [
    "df_sec['SectionDesc'].value_counts().sort_values().plot.barh(figsize=(9,9))"
   ]
  },
  {
   "cell_type": "markdown",
   "metadata": {},
   "source": [
    "### Linear Model - Include Sector"
   ]
  },
  {
   "cell_type": "code",
   "execution_count": 603,
   "metadata": {},
   "outputs": [
    {
     "data": {
      "text/plain": [
       "['DiffMeanBonusPercent',\n",
       " 'DiffMedianBonusPercent',\n",
       " 'MaleBonusPercent',\n",
       " 'FemaleBonusPercent',\n",
       " 'MaleLowerQuartile',\n",
       " 'FemaleLowerQuartile',\n",
       " 'MaleLowerMiddleQuartile',\n",
       " 'FemaleLowerMiddleQuartile',\n",
       " 'MaleUpperMiddleQuartile',\n",
       " 'FemaleUpperMiddleQuartile',\n",
       " 'MaleTopQuartile',\n",
       " 'FemaleTopQuartile',\n",
       " 'EmployerSize',\n",
       " 'SectA',\n",
       " 'SectB',\n",
       " 'SectC',\n",
       " 'SectD',\n",
       " 'SectE',\n",
       " 'SectF',\n",
       " 'SectG',\n",
       " 'SectH',\n",
       " 'SectI',\n",
       " 'SectJ',\n",
       " 'SectK',\n",
       " 'SectL',\n",
       " 'SectM',\n",
       " 'SectN',\n",
       " 'SectO',\n",
       " 'SectP',\n",
       " 'SectQ',\n",
       " 'SectR',\n",
       " 'SectS',\n",
       " 'SectT',\n",
       " 'SectU']"
      ]
     },
     "execution_count": 603,
     "metadata": {},
     "output_type": "execute_result"
    }
   ],
   "source": [
    "features_sec = features\n",
    "for c in range(ord('A'), ord('U')+1):\n",
    "    features_sec.append(\"Sect\" + chr(c))\n",
    "features_sec"
   ]
  },
  {
   "cell_type": "code",
   "execution_count": 604,
   "metadata": {},
   "outputs": [
    {
     "name": "stdout",
     "output_type": "stream",
     "text": [
      "(9899, 34) (9899,)\n",
      "(3300, 34) (3300,)\n"
     ]
    }
   ],
   "source": [
    "X = df_sec[features_sec]\n",
    "y = df_sec[target]\n",
    "X_train, X_test, y_train, y_test = train_test_split(X, y, random_state=42)\n",
    "# X_train, X_test, y_train, y_test = split_data(df_sec, 'target', features)\n",
    "print(X_train.shape, y_train.shape)\n",
    "print(X_test.shape, y_test.shape)"
   ]
  },
  {
   "cell_type": "code",
   "execution_count": 605,
   "metadata": {},
   "outputs": [
    {
     "data": {
      "text/plain": [
       "LinearRegression(copy_X=True, fit_intercept=True, n_jobs=None, normalize=True)"
      ]
     },
     "execution_count": 605,
     "metadata": {},
     "output_type": "execute_result"
    }
   ],
   "source": [
    "line_reg = learn(X_train, y_train)\n",
    "line_reg"
   ]
  },
  {
   "cell_type": "code",
   "execution_count": 606,
   "metadata": {},
   "outputs": [
    {
     "name": "stdout",
     "output_type": "stream",
     "text": [
      "Train Score: [0.55066652]\n",
      "Train Score: [0.52755863]\n"
     ]
    }
   ],
   "source": [
    "train_score = evaluate(line_reg, X_train, y_train)\n",
    "test_score = evaluate(line_reg, X_test,y_test)\n",
    "print(\"Train Score:\", train_score)\n",
    "print(\"Train Score:\", test_score)"
   ]
  },
  {
   "cell_type": "code",
   "execution_count": 626,
   "metadata": {},
   "outputs": [
    {
     "data": {
      "text/plain": [
       "{'SectA': 'Agriculture, Forestry and Fishing',\n",
       " 'SectB': 'Mining and Quarrying',\n",
       " 'SectC': 'Manufacturing',\n",
       " 'SectD': 'Electricity, gas, steam and air conditioning supply',\n",
       " 'SectE': 'Water supply, sewerage, waste management and',\n",
       " 'SectF': 'Construction',\n",
       " 'SectG': 'Wholesale and retail trade; repair of motor vehicles and',\n",
       " 'SectH': 'Transportation and storage',\n",
       " 'SectI': 'Accommodation and food service activities',\n",
       " 'SectJ': 'Information and communication',\n",
       " 'SectK': 'Financial and insurance activities',\n",
       " 'SectL': 'Real estate activities',\n",
       " 'SectM': 'Professional, scientific and technical activities',\n",
       " 'SectN': 'Administrative and support service activities',\n",
       " 'SectO': 'Public administration and defence; compulsory social',\n",
       " 'SectP': 'Education',\n",
       " 'SectQ': 'Human health and social work activities',\n",
       " 'SectR': 'Arts, entertainment and recreation',\n",
       " 'SectS': 'Other service activities',\n",
       " 'SectT': 'Activities of households as employers; undifferentiated',\n",
       " 'SectU': 'Activities of extraterritorial organisations and'}"
      ]
     },
     "execution_count": 626,
     "metadata": {},
     "output_type": "execute_result"
    }
   ],
   "source": [
    "# Feature Analysis\n",
    "sections = list(sic_codes['section'].unique())\n",
    "section_descs = list(sic_codes['SectionDesc'].unique())\n",
    "section_dict = {}\n",
    "for i in range(len(sections)):\n",
    "    section_dict[\"Sect\"+sections[i]] = section_descs[i]\n",
    "section_dict"
   ]
  },
  {
   "cell_type": "code",
   "execution_count": 625,
   "metadata": {},
   "outputs": [
    {
     "data": {
      "text/html": [
       "<div>\n",
       "<style scoped>\n",
       "    .dataframe tbody tr th:only-of-type {\n",
       "        vertical-align: middle;\n",
       "    }\n",
       "\n",
       "    .dataframe tbody tr th {\n",
       "        vertical-align: top;\n",
       "    }\n",
       "\n",
       "    .dataframe thead th {\n",
       "        text-align: right;\n",
       "    }\n",
       "</style>\n",
       "<table border=\"1\" class=\"dataframe\">\n",
       "  <thead>\n",
       "    <tr style=\"text-align: right;\">\n",
       "      <th></th>\n",
       "      <th>Column</th>\n",
       "      <th>Coeff</th>\n",
       "      <th>AbsCoeff</th>\n",
       "      <th>SectDesc</th>\n",
       "    </tr>\n",
       "  </thead>\n",
       "  <tbody>\n",
       "    <tr>\n",
       "      <th>28</th>\n",
       "      <td>SectP</td>\n",
       "      <td>7.106468e+11</td>\n",
       "      <td>7.106468e+11</td>\n",
       "      <td>Education</td>\n",
       "    </tr>\n",
       "    <tr>\n",
       "      <th>18</th>\n",
       "      <td>SectF</td>\n",
       "      <td>7.106468e+11</td>\n",
       "      <td>7.106468e+11</td>\n",
       "      <td>Construction</td>\n",
       "    </tr>\n",
       "    <tr>\n",
       "      <th>14</th>\n",
       "      <td>SectB</td>\n",
       "      <td>7.106468e+11</td>\n",
       "      <td>7.106468e+11</td>\n",
       "      <td>Mining and Quarrying</td>\n",
       "    </tr>\n",
       "    <tr>\n",
       "      <th>16</th>\n",
       "      <td>SectD</td>\n",
       "      <td>7.106468e+11</td>\n",
       "      <td>7.106468e+11</td>\n",
       "      <td>Electricity, gas, steam and air conditioning s...</td>\n",
       "    </tr>\n",
       "    <tr>\n",
       "      <th>22</th>\n",
       "      <td>SectJ</td>\n",
       "      <td>7.106468e+11</td>\n",
       "      <td>7.106468e+11</td>\n",
       "      <td>Information and communication</td>\n",
       "    </tr>\n",
       "    <tr>\n",
       "      <th>23</th>\n",
       "      <td>SectK</td>\n",
       "      <td>7.106468e+11</td>\n",
       "      <td>7.106468e+11</td>\n",
       "      <td>Financial and insurance activities</td>\n",
       "    </tr>\n",
       "    <tr>\n",
       "      <th>25</th>\n",
       "      <td>SectM</td>\n",
       "      <td>7.106468e+11</td>\n",
       "      <td>7.106468e+11</td>\n",
       "      <td>Professional, scientific and technical activities</td>\n",
       "    </tr>\n",
       "    <tr>\n",
       "      <th>26</th>\n",
       "      <td>SectN</td>\n",
       "      <td>7.106468e+11</td>\n",
       "      <td>7.106468e+11</td>\n",
       "      <td>Administrative and support service activities</td>\n",
       "    </tr>\n",
       "    <tr>\n",
       "      <th>29</th>\n",
       "      <td>SectQ</td>\n",
       "      <td>7.106468e+11</td>\n",
       "      <td>7.106468e+11</td>\n",
       "      <td>Human health and social work activities</td>\n",
       "    </tr>\n",
       "    <tr>\n",
       "      <th>17</th>\n",
       "      <td>SectE</td>\n",
       "      <td>7.106468e+11</td>\n",
       "      <td>7.106468e+11</td>\n",
       "      <td>Water supply, sewerage, waste management and</td>\n",
       "    </tr>\n",
       "    <tr>\n",
       "      <th>20</th>\n",
       "      <td>SectH</td>\n",
       "      <td>7.106468e+11</td>\n",
       "      <td>7.106468e+11</td>\n",
       "      <td>Transportation and storage</td>\n",
       "    </tr>\n",
       "    <tr>\n",
       "      <th>15</th>\n",
       "      <td>SectC</td>\n",
       "      <td>7.106468e+11</td>\n",
       "      <td>7.106468e+11</td>\n",
       "      <td>Manufacturing</td>\n",
       "    </tr>\n",
       "    <tr>\n",
       "      <th>19</th>\n",
       "      <td>SectG</td>\n",
       "      <td>7.106468e+11</td>\n",
       "      <td>7.106468e+11</td>\n",
       "      <td>Wholesale and retail trade; repair of motor ve...</td>\n",
       "    </tr>\n",
       "    <tr>\n",
       "      <th>27</th>\n",
       "      <td>SectO</td>\n",
       "      <td>7.106468e+11</td>\n",
       "      <td>7.106468e+11</td>\n",
       "      <td>Public administration and defence; compulsory ...</td>\n",
       "    </tr>\n",
       "    <tr>\n",
       "      <th>33</th>\n",
       "      <td>SectU</td>\n",
       "      <td>7.106468e+11</td>\n",
       "      <td>7.106468e+11</td>\n",
       "      <td>Activities of extraterritorial organisations and</td>\n",
       "    </tr>\n",
       "    <tr>\n",
       "      <th>31</th>\n",
       "      <td>SectS</td>\n",
       "      <td>7.106468e+11</td>\n",
       "      <td>7.106468e+11</td>\n",
       "      <td>Other service activities</td>\n",
       "    </tr>\n",
       "    <tr>\n",
       "      <th>24</th>\n",
       "      <td>SectL</td>\n",
       "      <td>7.106468e+11</td>\n",
       "      <td>7.106468e+11</td>\n",
       "      <td>Real estate activities</td>\n",
       "    </tr>\n",
       "    <tr>\n",
       "      <th>30</th>\n",
       "      <td>SectR</td>\n",
       "      <td>7.106468e+11</td>\n",
       "      <td>7.106468e+11</td>\n",
       "      <td>Arts, entertainment and recreation</td>\n",
       "    </tr>\n",
       "    <tr>\n",
       "      <th>13</th>\n",
       "      <td>SectA</td>\n",
       "      <td>7.106468e+11</td>\n",
       "      <td>7.106468e+11</td>\n",
       "      <td>Agriculture, Forestry and Fishing</td>\n",
       "    </tr>\n",
       "    <tr>\n",
       "      <th>21</th>\n",
       "      <td>SectI</td>\n",
       "      <td>7.106468e+11</td>\n",
       "      <td>7.106468e+11</td>\n",
       "      <td>Accommodation and food service activities</td>\n",
       "    </tr>\n",
       "    <tr>\n",
       "      <th>32</th>\n",
       "      <td>SectT</td>\n",
       "      <td>7.106468e+11</td>\n",
       "      <td>7.106468e+11</td>\n",
       "      <td>Activities of households as employers; undiffe...</td>\n",
       "    </tr>\n",
       "    <tr>\n",
       "      <th>10</th>\n",
       "      <td>MaleTopQuartile</td>\n",
       "      <td>4.337583e+10</td>\n",
       "      <td>4.337583e+10</td>\n",
       "      <td>NaN</td>\n",
       "    </tr>\n",
       "    <tr>\n",
       "      <th>11</th>\n",
       "      <td>FemaleTopQuartile</td>\n",
       "      <td>4.337583e+10</td>\n",
       "      <td>4.337583e+10</td>\n",
       "      <td>NaN</td>\n",
       "    </tr>\n",
       "    <tr>\n",
       "      <th>8</th>\n",
       "      <td>MaleUpperMiddleQuartile</td>\n",
       "      <td>3.794714e+10</td>\n",
       "      <td>3.794714e+10</td>\n",
       "      <td>NaN</td>\n",
       "    </tr>\n",
       "    <tr>\n",
       "      <th>9</th>\n",
       "      <td>FemaleUpperMiddleQuartile</td>\n",
       "      <td>3.794714e+10</td>\n",
       "      <td>3.794714e+10</td>\n",
       "      <td>NaN</td>\n",
       "    </tr>\n",
       "    <tr>\n",
       "      <th>7</th>\n",
       "      <td>FemaleLowerMiddleQuartile</td>\n",
       "      <td>2.283465e+09</td>\n",
       "      <td>2.283465e+09</td>\n",
       "      <td>NaN</td>\n",
       "    </tr>\n",
       "    <tr>\n",
       "      <th>6</th>\n",
       "      <td>MaleLowerMiddleQuartile</td>\n",
       "      <td>2.283465e+09</td>\n",
       "      <td>2.283465e+09</td>\n",
       "      <td>NaN</td>\n",
       "    </tr>\n",
       "    <tr>\n",
       "      <th>5</th>\n",
       "      <td>FemaleLowerQuartile</td>\n",
       "      <td>9.847970e+08</td>\n",
       "      <td>9.847970e+08</td>\n",
       "      <td>NaN</td>\n",
       "    </tr>\n",
       "    <tr>\n",
       "      <th>4</th>\n",
       "      <td>MaleLowerQuartile</td>\n",
       "      <td>9.847970e+08</td>\n",
       "      <td>9.847970e+08</td>\n",
       "      <td>NaN</td>\n",
       "    </tr>\n",
       "    <tr>\n",
       "      <th>2</th>\n",
       "      <td>MaleBonusPercent</td>\n",
       "      <td>3.957212e-02</td>\n",
       "      <td>3.957212e-02</td>\n",
       "      <td>NaN</td>\n",
       "    </tr>\n",
       "    <tr>\n",
       "      <th>3</th>\n",
       "      <td>FemaleBonusPercent</td>\n",
       "      <td>-1.799260e-02</td>\n",
       "      <td>1.799260e-02</td>\n",
       "      <td>NaN</td>\n",
       "    </tr>\n",
       "    <tr>\n",
       "      <th>1</th>\n",
       "      <td>DiffMedianBonusPercent</td>\n",
       "      <td>7.359609e-04</td>\n",
       "      <td>7.359609e-04</td>\n",
       "      <td>NaN</td>\n",
       "    </tr>\n",
       "    <tr>\n",
       "      <th>0</th>\n",
       "      <td>DiffMeanBonusPercent</td>\n",
       "      <td>-5.388473e-04</td>\n",
       "      <td>5.388473e-04</td>\n",
       "      <td>NaN</td>\n",
       "    </tr>\n",
       "    <tr>\n",
       "      <th>12</th>\n",
       "      <td>EmployerSize</td>\n",
       "      <td>-9.536104e-05</td>\n",
       "      <td>9.536104e-05</td>\n",
       "      <td>NaN</td>\n",
       "    </tr>\n",
       "  </tbody>\n",
       "</table>\n",
       "</div>"
      ],
      "text/plain": [
       "                       Column         Coeff      AbsCoeff  \\\n",
       "28                      SectP  7.106468e+11  7.106468e+11   \n",
       "18                      SectF  7.106468e+11  7.106468e+11   \n",
       "14                      SectB  7.106468e+11  7.106468e+11   \n",
       "16                      SectD  7.106468e+11  7.106468e+11   \n",
       "22                      SectJ  7.106468e+11  7.106468e+11   \n",
       "23                      SectK  7.106468e+11  7.106468e+11   \n",
       "25                      SectM  7.106468e+11  7.106468e+11   \n",
       "26                      SectN  7.106468e+11  7.106468e+11   \n",
       "29                      SectQ  7.106468e+11  7.106468e+11   \n",
       "17                      SectE  7.106468e+11  7.106468e+11   \n",
       "20                      SectH  7.106468e+11  7.106468e+11   \n",
       "15                      SectC  7.106468e+11  7.106468e+11   \n",
       "19                      SectG  7.106468e+11  7.106468e+11   \n",
       "27                      SectO  7.106468e+11  7.106468e+11   \n",
       "33                      SectU  7.106468e+11  7.106468e+11   \n",
       "31                      SectS  7.106468e+11  7.106468e+11   \n",
       "24                      SectL  7.106468e+11  7.106468e+11   \n",
       "30                      SectR  7.106468e+11  7.106468e+11   \n",
       "13                      SectA  7.106468e+11  7.106468e+11   \n",
       "21                      SectI  7.106468e+11  7.106468e+11   \n",
       "32                      SectT  7.106468e+11  7.106468e+11   \n",
       "10            MaleTopQuartile  4.337583e+10  4.337583e+10   \n",
       "11          FemaleTopQuartile  4.337583e+10  4.337583e+10   \n",
       "8     MaleUpperMiddleQuartile  3.794714e+10  3.794714e+10   \n",
       "9   FemaleUpperMiddleQuartile  3.794714e+10  3.794714e+10   \n",
       "7   FemaleLowerMiddleQuartile  2.283465e+09  2.283465e+09   \n",
       "6     MaleLowerMiddleQuartile  2.283465e+09  2.283465e+09   \n",
       "5         FemaleLowerQuartile  9.847970e+08  9.847970e+08   \n",
       "4           MaleLowerQuartile  9.847970e+08  9.847970e+08   \n",
       "2            MaleBonusPercent  3.957212e-02  3.957212e-02   \n",
       "3          FemaleBonusPercent -1.799260e-02  1.799260e-02   \n",
       "1      DiffMedianBonusPercent  7.359609e-04  7.359609e-04   \n",
       "0        DiffMeanBonusPercent -5.388473e-04  5.388473e-04   \n",
       "12               EmployerSize -9.536104e-05  9.536104e-05   \n",
       "\n",
       "                                             SectDesc  \n",
       "28                                          Education  \n",
       "18                                       Construction  \n",
       "14                               Mining and Quarrying  \n",
       "16  Electricity, gas, steam and air conditioning s...  \n",
       "22                      Information and communication  \n",
       "23                 Financial and insurance activities  \n",
       "25  Professional, scientific and technical activities  \n",
       "26      Administrative and support service activities  \n",
       "29            Human health and social work activities  \n",
       "17       Water supply, sewerage, waste management and  \n",
       "20                         Transportation and storage  \n",
       "15                                      Manufacturing  \n",
       "19  Wholesale and retail trade; repair of motor ve...  \n",
       "27  Public administration and defence; compulsory ...  \n",
       "33   Activities of extraterritorial organisations and  \n",
       "31                           Other service activities  \n",
       "24                             Real estate activities  \n",
       "30                 Arts, entertainment and recreation  \n",
       "13                  Agriculture, Forestry and Fishing  \n",
       "21          Accommodation and food service activities  \n",
       "32  Activities of households as employers; undiffe...  \n",
       "10                                                NaN  \n",
       "11                                                NaN  \n",
       "8                                                 NaN  \n",
       "9                                                 NaN  \n",
       "7                                                 NaN  \n",
       "6                                                 NaN  \n",
       "5                                                 NaN  \n",
       "4                                                 NaN  \n",
       "2                                                 NaN  \n",
       "3                                                 NaN  \n",
       "1                                                 NaN  \n",
       "0                                                 NaN  \n",
       "12                                                NaN  "
      ]
     },
     "execution_count": 625,
     "metadata": {},
     "output_type": "execute_result"
    }
   ],
   "source": [
    "coeff_df = pd.DataFrame({'Column': X_train.columns, 'Coeff': line_reg.coef_})\n",
    "coeff_df['AbsCoeff'] = abs(coeff_df['Coeff'])\n",
    "coeff_df['SectDesc'] = coeff_df['Column'].map(section_dict)\n",
    "coeff_df.sort_values(by=['AbsCoeff'], ascending=False)"
   ]
  },
  {
   "cell_type": "markdown",
   "metadata": {},
   "source": [
    "- Why are all Section Features such big numbers?"
   ]
  },
  {
   "cell_type": "code",
   "execution_count": null,
   "metadata": {},
   "outputs": [],
   "source": []
  }
 ],
 "metadata": {
  "kernelspec": {
   "display_name": "Python 3",
   "language": "python",
   "name": "python3"
  },
  "language_info": {
   "codemirror_mode": {
    "name": "ipython",
    "version": 3
   },
   "file_extension": ".py",
   "mimetype": "text/x-python",
   "name": "python",
   "nbconvert_exporter": "python",
   "pygments_lexer": "ipython3",
   "version": "3.7.4"
  }
 },
 "nbformat": 4,
 "nbformat_minor": 4
}
