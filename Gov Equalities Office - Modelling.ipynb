{
 "cells": [
  {
   "cell_type": "markdown",
   "metadata": {},
   "source": [
    "## MODELLING - GPG - Government Equalities Office\n",
    "\n",
    "### Target: \"DiffMedianHourlyPercent\"\n",
    "\n",
    "#### 1 - General Preparation\n",
    "- Unnecessary Columns\n",
    "- Missing Values\n",
    "- Imputing Values\n",
    "\n",
    "#### 2 Feature Engineering\n",
    "- Quantizise Company Size\n",
    "- Include Company Sector\n",
    "\n",
    "### Linear Model\n",
    "Feature Engineering:\n"
   ]
  },
  {
   "cell_type": "code",
   "execution_count": 1,
   "metadata": {},
   "outputs": [],
   "source": [
    "import pandas as pd\n",
    "import seaborn as sns\n",
    "import matplotlib.pyplot as plt"
   ]
  },
  {
   "cell_type": "code",
   "execution_count": 2,
   "metadata": {},
   "outputs": [
    {
     "name": "stdout",
     "output_type": "stream",
     "text": [
      "Rows: 10562\n",
      "Cols: 25\n"
     ]
    }
   ],
   "source": [
    "path = \"data/gender-pay-gap-uk-gov/2017.csv.gz\"\n",
    "df = pd.read_csv(path, compression='gzip')\n",
    "rows = df.shape[0]\n",
    "cols = df.shape[1]\n",
    "print(f\"Rows: {rows}\")\n",
    "print(f\"Cols: {cols}\")"
   ]
  },
  {
   "cell_type": "markdown",
   "metadata": {},
   "source": [
    "### 1 - General Preparation"
   ]
  },
  {
   "cell_type": "code",
   "execution_count": 3,
   "metadata": {},
   "outputs": [
    {
     "data": {
      "text/html": [
       "<div>\n",
       "<style scoped>\n",
       "    .dataframe tbody tr th:only-of-type {\n",
       "        vertical-align: middle;\n",
       "    }\n",
       "\n",
       "    .dataframe tbody tr th {\n",
       "        vertical-align: top;\n",
       "    }\n",
       "\n",
       "    .dataframe thead th {\n",
       "        text-align: right;\n",
       "    }\n",
       "</style>\n",
       "<table border=\"1\" class=\"dataframe\">\n",
       "  <thead>\n",
       "    <tr style=\"text-align: right;\">\n",
       "      <th></th>\n",
       "      <th>EmployerName</th>\n",
       "      <th>Address</th>\n",
       "      <th>CompanyNumber</th>\n",
       "      <th>SicCodes</th>\n",
       "      <th>DiffMeanHourlyPercent</th>\n",
       "      <th>DiffMedianHourlyPercent</th>\n",
       "      <th>DiffMeanBonusPercent</th>\n",
       "      <th>DiffMedianBonusPercent</th>\n",
       "      <th>MaleBonusPercent</th>\n",
       "      <th>FemaleBonusPercent</th>\n",
       "      <th>...</th>\n",
       "      <th>FemaleUpperMiddleQuartile</th>\n",
       "      <th>MaleTopQuartile</th>\n",
       "      <th>FemaleTopQuartile</th>\n",
       "      <th>CompanyLinkToGPGInfo</th>\n",
       "      <th>ResponsiblePerson</th>\n",
       "      <th>EmployerSize</th>\n",
       "      <th>CurrentName</th>\n",
       "      <th>SubmittedAfterTheDeadline</th>\n",
       "      <th>DueDate</th>\n",
       "      <th>DateSubmitted</th>\n",
       "    </tr>\n",
       "  </thead>\n",
       "  <tbody>\n",
       "    <tr>\n",
       "      <th>0</th>\n",
       "      <td>\"Bryanston School\",Incorporated</td>\n",
       "      <td>Bryanston House,\\r\\nBlandford,\\r\\nDorset,\\r\\nD...</td>\n",
       "      <td>00226143</td>\n",
       "      <td>85310</td>\n",
       "      <td>18.0</td>\n",
       "      <td>28.2</td>\n",
       "      <td>0.0</td>\n",
       "      <td>0.0</td>\n",
       "      <td>0.0</td>\n",
       "      <td>0.0</td>\n",
       "      <td>...</td>\n",
       "      <td>50.8</td>\n",
       "      <td>51.5</td>\n",
       "      <td>48.5</td>\n",
       "      <td>https://www.bryanston.co.uk/employment</td>\n",
       "      <td>Nick McRobb (Bursar and Clerk to the Governors)</td>\n",
       "      <td>500 to 999</td>\n",
       "      <td>BRYANSTON SCHOOL INCORPORATED</td>\n",
       "      <td>False</td>\n",
       "      <td>05/04/2018 00:00:00</td>\n",
       "      <td>27/03/2018 11:42:49</td>\n",
       "    </tr>\n",
       "    <tr>\n",
       "      <th>1</th>\n",
       "      <td>\"RED BAND\" CHEMICAL COMPANY, LIMITED</td>\n",
       "      <td>19 Smith's Place,\\r\\nLeith Walk,\\r\\nEdinburgh,...</td>\n",
       "      <td>SC016876</td>\n",
       "      <td>47730</td>\n",
       "      <td>2.3</td>\n",
       "      <td>-2.7</td>\n",
       "      <td>15.0</td>\n",
       "      <td>37.5</td>\n",
       "      <td>15.6</td>\n",
       "      <td>66.7</td>\n",
       "      <td>...</td>\n",
       "      <td>89.7</td>\n",
       "      <td>18.1</td>\n",
       "      <td>81.9</td>\n",
       "      <td>NaN</td>\n",
       "      <td>Philip Galt (Managing Director)</td>\n",
       "      <td>250 to 499</td>\n",
       "      <td>\"RED BAND\" CHEMICAL COMPANY, LIMITED</td>\n",
       "      <td>False</td>\n",
       "      <td>05/04/2018 00:00:00</td>\n",
       "      <td>28/03/2018 16:44:25</td>\n",
       "    </tr>\n",
       "    <tr>\n",
       "      <th>2</th>\n",
       "      <td>118 LIMITED</td>\n",
       "      <td>3 Alexandra Gate Ffordd Pengam,\\r\\nGround Floo...</td>\n",
       "      <td>03951948</td>\n",
       "      <td>61900</td>\n",
       "      <td>1.7</td>\n",
       "      <td>2.8</td>\n",
       "      <td>13.1</td>\n",
       "      <td>13.6</td>\n",
       "      <td>70.0</td>\n",
       "      <td>57.0</td>\n",
       "      <td>...</td>\n",
       "      <td>50.0</td>\n",
       "      <td>58.0</td>\n",
       "      <td>42.0</td>\n",
       "      <td>NaN</td>\n",
       "      <td>Emma Crowe (VP, Human Resources)</td>\n",
       "      <td>500 to 999</td>\n",
       "      <td>118 LIMITED</td>\n",
       "      <td>False</td>\n",
       "      <td>05/04/2018 00:00:00</td>\n",
       "      <td>27/03/2018 19:10:41</td>\n",
       "    </tr>\n",
       "  </tbody>\n",
       "</table>\n",
       "<p>3 rows × 25 columns</p>\n",
       "</div>"
      ],
      "text/plain": [
       "                           EmployerName  \\\n",
       "0       \"Bryanston School\",Incorporated   \n",
       "1  \"RED BAND\" CHEMICAL COMPANY, LIMITED   \n",
       "2                           118 LIMITED   \n",
       "\n",
       "                                             Address CompanyNumber SicCodes  \\\n",
       "0  Bryanston House,\\r\\nBlandford,\\r\\nDorset,\\r\\nD...      00226143    85310   \n",
       "1  19 Smith's Place,\\r\\nLeith Walk,\\r\\nEdinburgh,...      SC016876    47730   \n",
       "2  3 Alexandra Gate Ffordd Pengam,\\r\\nGround Floo...      03951948    61900   \n",
       "\n",
       "   DiffMeanHourlyPercent  DiffMedianHourlyPercent  DiffMeanBonusPercent  \\\n",
       "0                   18.0                     28.2                   0.0   \n",
       "1                    2.3                     -2.7                  15.0   \n",
       "2                    1.7                      2.8                  13.1   \n",
       "\n",
       "   DiffMedianBonusPercent  MaleBonusPercent  FemaleBonusPercent  ...  \\\n",
       "0                     0.0               0.0                 0.0  ...   \n",
       "1                    37.5              15.6                66.7  ...   \n",
       "2                    13.6              70.0                57.0  ...   \n",
       "\n",
       "   FemaleUpperMiddleQuartile  MaleTopQuartile  FemaleTopQuartile  \\\n",
       "0                       50.8             51.5               48.5   \n",
       "1                       89.7             18.1               81.9   \n",
       "2                       50.0             58.0               42.0   \n",
       "\n",
       "                     CompanyLinkToGPGInfo  \\\n",
       "0  https://www.bryanston.co.uk/employment   \n",
       "1                                     NaN   \n",
       "2                                     NaN   \n",
       "\n",
       "                                 ResponsiblePerson  EmployerSize  \\\n",
       "0  Nick McRobb (Bursar and Clerk to the Governors)    500 to 999   \n",
       "1                  Philip Galt (Managing Director)    250 to 499   \n",
       "2                 Emma Crowe (VP, Human Resources)    500 to 999   \n",
       "\n",
       "                            CurrentName  SubmittedAfterTheDeadline  \\\n",
       "0         BRYANSTON SCHOOL INCORPORATED                      False   \n",
       "1  \"RED BAND\" CHEMICAL COMPANY, LIMITED                      False   \n",
       "2                           118 LIMITED                      False   \n",
       "\n",
       "               DueDate        DateSubmitted  \n",
       "0  05/04/2018 00:00:00  27/03/2018 11:42:49  \n",
       "1  05/04/2018 00:00:00  28/03/2018 16:44:25  \n",
       "2  05/04/2018 00:00:00  27/03/2018 19:10:41  \n",
       "\n",
       "[3 rows x 25 columns]"
      ]
     },
     "execution_count": 3,
     "metadata": {},
     "output_type": "execute_result"
    }
   ],
   "source": [
    "df.head(3)"
   ]
  },
  {
   "cell_type": "code",
   "execution_count": 4,
   "metadata": {},
   "outputs": [
    {
     "name": "stdout",
     "output_type": "stream",
     "text": [
      "EmployerName                 10561\n",
      "Address                       9039\n",
      "CompanyNumber                 9203\n",
      "SicCodes                      1943\n",
      "DiffMeanHourlyPercent          829\n",
      "DiffMedianHourlyPercent        891\n",
      "DiffMeanBonusPercent          1763\n",
      "DiffMedianBonusPercent        1734\n",
      "MaleBonusPercent               978\n",
      "FemaleBonusPercent             979\n",
      "MaleLowerQuartile              980\n",
      "FemaleLowerQuartile            980\n",
      "MaleLowerMiddleQuartile        986\n",
      "FemaleLowerMiddleQuartile      986\n",
      "MaleUpperMiddleQuartile        974\n",
      "FemaleUpperMiddleQuartile      974\n",
      "MaleTopQuartile                944\n",
      "FemaleTopQuartile              944\n",
      "CompanyLinkToGPGInfo          6589\n",
      "ResponsiblePerson             7304\n",
      "EmployerSize                     7\n",
      "CurrentName                  10561\n",
      "SubmittedAfterTheDeadline        2\n",
      "DueDate                          2\n",
      "DateSubmitted                10474\n",
      "dtype: int64\n"
     ]
    }
   ],
   "source": [
    "print(df.nunique())"
   ]
  },
  {
   "cell_type": "code",
   "execution_count": 5,
   "metadata": {},
   "outputs": [
    {
     "data": {
      "text/plain": [
       "4297                                                   NaN\n",
       "7210       https://www.prs.uk.com/gender-pay-gap-reporting\n",
       "9512                                 http://www.tbgs.co.uk\n",
       "6344     https://www.vipelectroniccigarette.co.uk/about...\n",
       "3557                             http://www.g1group.co.uk/\n",
       "5104                     http://www.rowlandspharmacy.co.uk\n",
       "814      https://www.balfourbeatty.com/investors/result...\n",
       "5739               https://www.mbna.co.uk/news/gender-pay/\n",
       "8210     https://www.playstation.com/uk-gender-pay-gap-...\n",
       "10080    http://www.ward-security.co.uk/ward-security-g...\n",
       "Name: CompanyLinkToGPGInfo, dtype: object"
      ]
     },
     "execution_count": 5,
     "metadata": {},
     "output_type": "execute_result"
    }
   ],
   "source": [
    "df['DueDate'].value_counts()\n",
    "df['CompanyLinkToGPGInfo'].sample(10)"
   ]
  },
  {
   "cell_type": "markdown",
   "metadata": {},
   "source": [
    "### 2 - Feature Cleaning\n",
    "**Dropping Data:**\n",
    "- EmployerName / CurrentName: are unique in every row\n",
    "- CompanyLinkToGPGInfo: contains urls\n",
    "- ResponsiblePerson: Maybe we could check whether the companies that didn't fill this field also skipped PDFs or if they're incomplete or have a pattern.\n",
    "- DueDate / DateSubmitted / SubmittedAfterTheDeadline "
   ]
  },
  {
   "cell_type": "code",
   "execution_count": 6,
   "metadata": {},
   "outputs": [
    {
     "data": {
      "text/plain": [
       "(10562, 25)"
      ]
     },
     "execution_count": 6,
     "metadata": {},
     "output_type": "execute_result"
    }
   ],
   "source": [
    "columns_to_drop = [\n",
    "    'EmployerName','CurrentName','CompanyNumber',\n",
    "    'CompanyLinkToGPGInfo','ResponsiblePerson',\n",
    "    'DueDate','DateSubmitted','SubmittedAfterTheDeadline'\n",
    "]\n",
    "df_cols = df.drop(columns_to_drop, axis='columns')\n",
    "df.shape"
   ]
  },
  {
   "cell_type": "markdown",
   "metadata": {},
   "source": [
    "#### Imputing values"
   ]
  },
  {
   "cell_type": "code",
   "execution_count": 7,
   "metadata": {},
   "outputs": [
    {
     "data": {
      "text/plain": [
       "Address                      0.974153\n",
       "SicCodes                     0.946317\n",
       "DiffMeanHourlyPercent        1.000000\n",
       "DiffMedianHourlyPercent      1.000000\n",
       "DiffMeanBonusPercent         0.998106\n",
       "DiffMedianBonusPercent       0.998106\n",
       "MaleBonusPercent             1.000000\n",
       "FemaleBonusPercent           1.000000\n",
       "MaleLowerQuartile            1.000000\n",
       "FemaleLowerQuartile          1.000000\n",
       "MaleLowerMiddleQuartile      1.000000\n",
       "FemaleLowerMiddleQuartile    1.000000\n",
       "MaleUpperMiddleQuartile      1.000000\n",
       "FemaleUpperMiddleQuartile    1.000000\n",
       "MaleTopQuartile              1.000000\n",
       "FemaleTopQuartile            1.000000\n",
       "EmployerSize                 1.000000\n",
       "dtype: float64"
      ]
     },
     "execution_count": 7,
     "metadata": {},
     "output_type": "execute_result"
    }
   ],
   "source": [
    "def check_presence(df):\n",
    "    return df.notnull().sum() / rows\n",
    "check_presence(df_cols)"
   ]
  },
  {
   "cell_type": "code",
   "execution_count": 8,
   "metadata": {},
   "outputs": [
    {
     "data": {
      "text/plain": [
       "Address                      0.974153\n",
       "SicCodes                     0.946317\n",
       "DiffMeanHourlyPercent        1.000000\n",
       "DiffMedianHourlyPercent      1.000000\n",
       "DiffMeanBonusPercent         1.000000\n",
       "DiffMedianBonusPercent       1.000000\n",
       "MaleBonusPercent             1.000000\n",
       "FemaleBonusPercent           1.000000\n",
       "MaleLowerQuartile            1.000000\n",
       "FemaleLowerQuartile          1.000000\n",
       "MaleLowerMiddleQuartile      1.000000\n",
       "FemaleLowerMiddleQuartile    1.000000\n",
       "MaleUpperMiddleQuartile      1.000000\n",
       "FemaleUpperMiddleQuartile    1.000000\n",
       "MaleTopQuartile              1.000000\n",
       "FemaleTopQuartile            1.000000\n",
       "EmployerSize                 1.000000\n",
       "dtype: float64"
      ]
     },
     "execution_count": 8,
     "metadata": {},
     "output_type": "execute_result"
    }
   ],
   "source": [
    "# Mean because the measurement is mean\n",
    "mean_bonus_percent = df_cols['DiffMeanBonusPercent'].mean()\n",
    "df_cols['DiffMeanBonusPercent'] = df_cols['DiffMeanBonusPercent'].fillna(mean_bonus_percent)\n",
    "\n",
    "# Median because the measurement is median\n",
    "median_bonus_percent = df['DiffMedianBonusPercent'].median()\n",
    "df_cols['DiffMedianBonusPercent'] = df_cols['DiffMedianBonusPercent'].fillna(median_bonus_percent)\n",
    "\n",
    "# Mode because it is categorical\n",
    "employer_size_mode = df_cols['EmployerSize'].mode()\n",
    "df_cols['EmployerSize'] = df_cols['EmployerSize'].fillna(employer_size_mode)\n",
    "\n",
    "# employer_size_mode\n",
    "check_presence(df_cols)"
   ]
  },
  {
   "cell_type": "code",
   "execution_count": 9,
   "metadata": {},
   "outputs": [
    {
     "data": {
      "text/plain": [
       "250 to 499        5026\n",
       "500 to 999        2534\n",
       "1000 to 4999      2208\n",
       "5000 to 19,999     441\n",
       "Less than 250      288\n",
       "20,000 or more      65\n",
       "Name: EmployerSize, dtype: int64"
      ]
     },
     "execution_count": 9,
     "metadata": {},
     "output_type": "execute_result"
    }
   ],
   "source": [
    "df_cols['EmployerSize'].replace('Not Provided', '250 to 499', inplace=True)\n",
    "df_cols['EmployerSize'].value_counts()\n",
    "# check_presence(df)"
   ]
  },
  {
   "cell_type": "markdown",
   "metadata": {},
   "source": [
    "#### EmpoyerSize range to quantitative category"
   ]
  },
  {
   "cell_type": "code",
   "execution_count": 21,
   "metadata": {
    "scrolled": false
   },
   "outputs": [
    {
     "data": {
      "text/plain": [
       "375      5026\n",
       "750      2534\n",
       "2500     2208\n",
       "15000     441\n",
       "125       288\n",
       "35000      65\n",
       "Name: EmployerSize, dtype: int64"
      ]
     },
     "execution_count": 21,
     "metadata": {},
     "output_type": "execute_result"
    }
   ],
   "source": [
    "# Could come a copy here.\n",
    "cat_to_quant = {\n",
    " 'Less than 250' : 125,\n",
    " '250 to 499' : 375,\n",
    " '500 to 999': 750,\n",
    " '1000 to 4999' : 2500,\n",
    " '5000 to 19,999': 15000,\n",
    " '20,000 or more': 35000\n",
    "}\n",
    "\n",
    "# DO NOT DO IT TWICE\n",
    "# df_cols['EmployerSize'] = df_cols['EmployerSize'].map(cat_to_quant)\n",
    "\n",
    "df_cols['EmployerSize'].value_counts()\n",
    "# check_presence(df)"
   ]
  },
  {
   "cell_type": "markdown",
   "metadata": {},
   "source": [
    "### 3 Linear Model"
   ]
  },
  {
   "cell_type": "code",
   "execution_count": 16,
   "metadata": {},
   "outputs": [],
   "source": [
    "from sklearn.linear_model import LinearRegression\n",
    "from sklearn.model_selection import train_test_split\n",
    "from sklearn.metrics import r2_score\n",
    "\n",
    "features = [\n",
    "    'DiffMeanBonusPercent', 'DiffMedianBonusPercent',\n",
    "    'MaleBonusPercent', 'FemaleBonusPercent',\n",
    "    'MaleLowerQuartile', 'FemaleLowerQuartile',\n",
    "    'MaleLowerMiddleQuartile', 'FemaleLowerMiddleQuartile',\n",
    "    'MaleUpperMiddleQuartile', 'FemaleUpperMiddleQuartile',\n",
    "    'MaleTopQuartile', 'FemaleTopQuartile', 'EmployerSize'\n",
    "]"
   ]
  },
  {
   "cell_type": "code",
   "execution_count": 17,
   "metadata": {},
   "outputs": [
    {
     "name": "stdout",
     "output_type": "stream",
     "text": [
      "(7921, 13) (7921,)\n",
      "(2641, 13) (2641,)\n"
     ]
    }
   ],
   "source": [
    "X = df_cols[features]\n",
    "y = df_cols['DiffMedianHourlyPercent']\n",
    "\n",
    "X_train, X_test, y_train, y_test = train_test_split(X, y, random_state=42)\n",
    "print(X_train.shape, y_train.shape)\n",
    "print(X_test.shape, y_test.shape)"
   ]
  },
  {
   "cell_type": "code",
   "execution_count": 18,
   "metadata": {},
   "outputs": [
    {
     "data": {
      "text/plain": [
       "LinearRegression(copy_X=True, fit_intercept=True, n_jobs=None, normalize=True)"
      ]
     },
     "execution_count": 18,
     "metadata": {},
     "output_type": "execute_result"
    }
   ],
   "source": [
    "linear_reg = LinearRegression(normalize=True)\n",
    "linear_reg.fit(X_train,y_train)"
   ]
  },
  {
   "cell_type": "code",
   "execution_count": 19,
   "metadata": {},
   "outputs": [
    {
     "name": "stdout",
     "output_type": "stream",
     "text": [
      "Train Score: [0.49322808]\n",
      "Test Score: [0.5006404]\n"
     ]
    }
   ],
   "source": [
    "y_preds_test = linear_reg.predict(X_test)\n",
    "y_preds_train = linear_reg.predict(X_train)\n",
    "\n",
    "train_score = r2_score(y_train, y_preds_train, multioutput='raw_values')\n",
    "test_score = r2_score(y_test, y_preds_test, multioutput='raw_values')\n",
    "\n",
    "print(\"Train Score:\", train_score)\n",
    "print(\"Test Score:\", test_score)"
   ]
  },
  {
   "cell_type": "markdown",
   "metadata": {},
   "source": [
    "#### Adding Company Sector"
   ]
  },
  {
   "cell_type": "code",
   "execution_count": 27,
   "metadata": {},
   "outputs": [
    {
     "data": {
      "text/plain": [
       "(731, 5)"
      ]
     },
     "execution_count": 27,
     "metadata": {},
     "output_type": "execute_result"
    }
   ],
   "source": [
    "sic_codes = pd.read_csv(\"data/siccodes/uk-sic-2007-condensed_csv.csv\")\n",
    "sic_codes.shape"
   ]
  },
  {
   "cell_type": "code",
   "execution_count": 28,
   "metadata": {},
   "outputs": [
    {
     "data": {
      "text/html": [
       "<div>\n",
       "<style scoped>\n",
       "    .dataframe tbody tr th:only-of-type {\n",
       "        vertical-align: middle;\n",
       "    }\n",
       "\n",
       "    .dataframe tbody tr th {\n",
       "        vertical-align: top;\n",
       "    }\n",
       "\n",
       "    .dataframe thead th {\n",
       "        text-align: right;\n",
       "    }\n",
       "</style>\n",
       "<table border=\"1\" class=\"dataframe\">\n",
       "  <thead>\n",
       "    <tr style=\"text-align: right;\">\n",
       "      <th></th>\n",
       "      <th>sic_code</th>\n",
       "      <th>sic_description</th>\n",
       "      <th>section</th>\n",
       "      <th>section_description</th>\n",
       "      <th>sic_version</th>\n",
       "    </tr>\n",
       "  </thead>\n",
       "  <tbody>\n",
       "    <tr>\n",
       "      <th>0</th>\n",
       "      <td>1110</td>\n",
       "      <td>Growing of cereals (except rice), leguminous c...</td>\n",
       "      <td>A</td>\n",
       "      <td>Agriculture, Forestry and Fishing</td>\n",
       "      <td>SIC 2007</td>\n",
       "    </tr>\n",
       "    <tr>\n",
       "      <th>1</th>\n",
       "      <td>1120</td>\n",
       "      <td>Growing of rice</td>\n",
       "      <td>A</td>\n",
       "      <td>Agriculture, Forestry and Fishing</td>\n",
       "      <td>SIC 2007</td>\n",
       "    </tr>\n",
       "    <tr>\n",
       "      <th>2</th>\n",
       "      <td>1130</td>\n",
       "      <td>Growing of vegetables and melons, roots and tu...</td>\n",
       "      <td>A</td>\n",
       "      <td>Agriculture, Forestry and Fishing</td>\n",
       "      <td>SIC 2007</td>\n",
       "    </tr>\n",
       "  </tbody>\n",
       "</table>\n",
       "</div>"
      ],
      "text/plain": [
       "   sic_code                                    sic_description section  \\\n",
       "0      1110  Growing of cereals (except rice), leguminous c...       A   \n",
       "1      1120                                    Growing of rice       A   \n",
       "2      1130  Growing of vegetables and melons, roots and tu...       A   \n",
       "\n",
       "                 section_description sic_version  \n",
       "0  Agriculture, Forestry and Fishing    SIC 2007  \n",
       "1  Agriculture, Forestry and Fishing    SIC 2007  \n",
       "2  Agriculture, Forestry and Fishing    SIC 2007  "
      ]
     },
     "execution_count": 28,
     "metadata": {},
     "output_type": "execute_result"
    }
   ],
   "source": [
    "sic_codes.head(3)"
   ]
  },
  {
   "cell_type": "code",
   "execution_count": 54,
   "metadata": {},
   "outputs": [
    {
     "data": {
      "text/html": [
       "<div>\n",
       "<style scoped>\n",
       "    .dataframe tbody tr th:only-of-type {\n",
       "        vertical-align: middle;\n",
       "    }\n",
       "\n",
       "    .dataframe tbody tr th {\n",
       "        vertical-align: top;\n",
       "    }\n",
       "\n",
       "    .dataframe thead th {\n",
       "        text-align: right;\n",
       "    }\n",
       "</style>\n",
       "<table border=\"1\" class=\"dataframe\">\n",
       "  <thead>\n",
       "    <tr style=\"text-align: right;\">\n",
       "      <th></th>\n",
       "      <th>sic_code</th>\n",
       "      <th>sic_description</th>\n",
       "      <th>section</th>\n",
       "      <th>section_description</th>\n",
       "      <th>sic_version</th>\n",
       "    </tr>\n",
       "  </thead>\n",
       "  <tbody>\n",
       "    <tr>\n",
       "      <th>0</th>\n",
       "      <td>1110</td>\n",
       "      <td>Growing of cereals (except rice), leguminous c...</td>\n",
       "      <td>A</td>\n",
       "      <td>Agriculture, Forestry and Fishing</td>\n",
       "      <td>SIC 2007</td>\n",
       "    </tr>\n",
       "  </tbody>\n",
       "</table>\n",
       "</div>"
      ],
      "text/plain": [
       "   sic_code                                    sic_description section  \\\n",
       "0      1110  Growing of cereals (except rice), leguminous c...       A   \n",
       "\n",
       "                 section_description sic_version  \n",
       "0  Agriculture, Forestry and Fishing    SIC 2007  "
      ]
     },
     "execution_count": 54,
     "metadata": {},
     "output_type": "execute_result"
    }
   ],
   "source": [
    "sic_codes[sic_codes.sic_code == 1110]"
   ]
  },
  {
   "cell_type": "code",
   "execution_count": 32,
   "metadata": {},
   "outputs": [
    {
     "data": {
      "text/plain": [
       "21"
      ]
     },
     "execution_count": 32,
     "metadata": {},
     "output_type": "execute_result"
    }
   ],
   "source": [
    "sic_codes.groupby(\"section_description\").count()"
   ]
  },
  {
   "cell_type": "code",
   "execution_count": 37,
   "metadata": {},
   "outputs": [
    {
     "data": {
      "text/plain": [
       "3808    17219\n",
       "3786    46460\n",
       "2557        1\n",
       "Name: SicCodes, dtype: object"
      ]
     },
     "execution_count": 37,
     "metadata": {},
     "output_type": "execute_result"
    }
   ],
   "source": [
    "df_cols['SicCodes'].sample(3)"
   ]
  },
  {
   "cell_type": "code",
   "execution_count": 49,
   "metadata": {},
   "outputs": [
    {
     "data": {
      "text/plain": [
       "82990                                  446\n",
       "1                                      336\n",
       "1,\\r\\n84110                            306\n",
       "70100                                  277\n",
       "78200                                  209\n",
       "                                      ... \n",
       "86101,\\r\\n86102                          1\n",
       "87300,\\r\\n88100,\\r\\n88910,\\r\\n88990      1\n",
       "61300                                    1\n",
       "1,\\r\\n49390                              1\n",
       "85590,\\r\\n90040,\\r\\n91011,\\r\\n93110      1\n",
       "Name: SicCodes, Length: 1943, dtype: int64"
      ]
     },
     "execution_count": 49,
     "metadata": {},
     "output_type": "execute_result"
    }
   ],
   "source": [
    "# df_cols['SicCodes'] = pd.to_numeric(df_cols['SicCodes'])\n",
    "# df_cols.shape\n",
    "df_cols['SicCodes'].value_counts()"
   ]
  },
  {
   "cell_type": "code",
   "execution_count": null,
   "metadata": {},
   "outputs": [],
   "source": []
  }
 ],
 "metadata": {
  "kernelspec": {
   "display_name": "Python 3",
   "language": "python",
   "name": "python3"
  },
  "language_info": {
   "codemirror_mode": {
    "name": "ipython",
    "version": 3
   },
   "file_extension": ".py",
   "mimetype": "text/x-python",
   "name": "python",
   "nbconvert_exporter": "python",
   "pygments_lexer": "ipython3",
   "version": "3.7.4"
  }
 },
 "nbformat": 4,
 "nbformat_minor": 4
}
