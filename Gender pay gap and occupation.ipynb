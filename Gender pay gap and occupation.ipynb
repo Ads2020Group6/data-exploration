{
 "cells": [
  {
   "cell_type": "code",
   "execution_count": 25,
   "metadata": {},
   "outputs": [],
   "source": [
    "import pandas as pd\n",
    "import numpy as np\n",
    "import matplotlib.pyplot as plt\n",
    "import seaborn as sns"
   ]
  },
  {
   "cell_type": "code",
   "execution_count": 26,
   "metadata": {},
   "outputs": [
    {
     "data": {
      "text/html": [
       "<div>\n",
       "<style scoped>\n",
       "    .dataframe tbody tr th:only-of-type {\n",
       "        vertical-align: middle;\n",
       "    }\n",
       "\n",
       "    .dataframe tbody tr th {\n",
       "        vertical-align: top;\n",
       "    }\n",
       "\n",
       "    .dataframe thead th {\n",
       "        text-align: right;\n",
       "    }\n",
       "</style>\n",
       "<table border=\"1\" class=\"dataframe\">\n",
       "  <thead>\n",
       "    <tr style=\"text-align: right;\">\n",
       "      <th></th>\n",
       "      <th>ref_area</th>\n",
       "      <th>indicator</th>\n",
       "      <th>source</th>\n",
       "      <th>time</th>\n",
       "      <th>obs_value</th>\n",
       "      <th>note_indicator</th>\n",
       "      <th>note_source</th>\n",
       "    </tr>\n",
       "  </thead>\n",
       "  <tbody>\n",
       "    <tr>\n",
       "      <td>0</td>\n",
       "      <td>ARG</td>\n",
       "      <td>EAR_GGAP_NOC_RT</td>\n",
       "      <td>BA:150</td>\n",
       "      <td>2018</td>\n",
       "      <td>-1.55</td>\n",
       "      <td>T30:61_T7:124_T10:139_T11:142_T12:145</td>\n",
       "      <td>S14:4077_S3:11_S4:33</td>\n",
       "    </tr>\n",
       "    <tr>\n",
       "      <td>1</td>\n",
       "      <td>ARG</td>\n",
       "      <td>EAR_GGAP_NOC_RT</td>\n",
       "      <td>BA:153</td>\n",
       "      <td>1991</td>\n",
       "      <td>6.71</td>\n",
       "      <td>T30:256_T7:124</td>\n",
       "      <td>R1:3473_S4:32</td>\n",
       "    </tr>\n",
       "    <tr>\n",
       "      <td>2</td>\n",
       "      <td>ARG</td>\n",
       "      <td>EAR_GGAP_NOC_RT</td>\n",
       "      <td>BA:153</td>\n",
       "      <td>1992</td>\n",
       "      <td>8.33</td>\n",
       "      <td>T30:61_T7:124_I11:268</td>\n",
       "      <td>R1:3473_S4:33</td>\n",
       "    </tr>\n",
       "    <tr>\n",
       "      <td>3</td>\n",
       "      <td>ARG</td>\n",
       "      <td>EAR_GGAP_NOC_RT</td>\n",
       "      <td>BA:153</td>\n",
       "      <td>1993</td>\n",
       "      <td>7.69</td>\n",
       "      <td>T30:61_T7:124_I11:265</td>\n",
       "      <td>R1:3473_S4:33</td>\n",
       "    </tr>\n",
       "    <tr>\n",
       "      <td>4</td>\n",
       "      <td>ARG</td>\n",
       "      <td>EAR_GGAP_NOC_RT</td>\n",
       "      <td>BA:153</td>\n",
       "      <td>1994</td>\n",
       "      <td>-2.27</td>\n",
       "      <td>T30:61_T7:124</td>\n",
       "      <td>R1:3473_S4:33</td>\n",
       "    </tr>\n",
       "  </tbody>\n",
       "</table>\n",
       "</div>"
      ],
      "text/plain": [
       "  ref_area        indicator  source  time  obs_value  \\\n",
       "0      ARG  EAR_GGAP_NOC_RT  BA:150  2018      -1.55   \n",
       "1      ARG  EAR_GGAP_NOC_RT  BA:153  1991       6.71   \n",
       "2      ARG  EAR_GGAP_NOC_RT  BA:153  1992       8.33   \n",
       "3      ARG  EAR_GGAP_NOC_RT  BA:153  1993       7.69   \n",
       "4      ARG  EAR_GGAP_NOC_RT  BA:153  1994      -2.27   \n",
       "\n",
       "                          note_indicator           note_source  \n",
       "0  T30:61_T7:124_T10:139_T11:142_T12:145  S14:4077_S3:11_S4:33  \n",
       "1                         T30:256_T7:124         R1:3473_S4:32  \n",
       "2                  T30:61_T7:124_I11:268         R1:3473_S4:33  \n",
       "3                  T30:61_T7:124_I11:265         R1:3473_S4:33  \n",
       "4                          T30:61_T7:124         R1:3473_S4:33  "
      ]
     },
     "execution_count": 26,
     "metadata": {},
     "output_type": "execute_result"
    }
   ],
   "source": [
    "url = \"data/ILO/EAR_GGAP_NOC_RT_A.csv\"\n",
    "data = pd.read_csv(url)\n",
    "data.head()"
   ]
  },
  {
   "cell_type": "code",
   "execution_count": 27,
   "metadata": {},
   "outputs": [
    {
     "data": {
      "text/html": [
       "<div>\n",
       "<style scoped>\n",
       "    .dataframe tbody tr th:only-of-type {\n",
       "        vertical-align: middle;\n",
       "    }\n",
       "\n",
       "    .dataframe tbody tr th {\n",
       "        vertical-align: top;\n",
       "    }\n",
       "\n",
       "    .dataframe thead th {\n",
       "        text-align: right;\n",
       "    }\n",
       "</style>\n",
       "<table border=\"1\" class=\"dataframe\">\n",
       "  <thead>\n",
       "    <tr style=\"text-align: right;\">\n",
       "      <th></th>\n",
       "      <th>ref_area</th>\n",
       "      <th>time</th>\n",
       "      <th>obs_value</th>\n",
       "    </tr>\n",
       "  </thead>\n",
       "  <tbody>\n",
       "    <tr>\n",
       "      <td>0</td>\n",
       "      <td>ARG</td>\n",
       "      <td>2018</td>\n",
       "      <td>-1.55</td>\n",
       "    </tr>\n",
       "    <tr>\n",
       "      <td>1</td>\n",
       "      <td>ARG</td>\n",
       "      <td>1991</td>\n",
       "      <td>6.71</td>\n",
       "    </tr>\n",
       "    <tr>\n",
       "      <td>2</td>\n",
       "      <td>ARG</td>\n",
       "      <td>1992</td>\n",
       "      <td>8.33</td>\n",
       "    </tr>\n",
       "    <tr>\n",
       "      <td>3</td>\n",
       "      <td>ARG</td>\n",
       "      <td>1993</td>\n",
       "      <td>7.69</td>\n",
       "    </tr>\n",
       "    <tr>\n",
       "      <td>4</td>\n",
       "      <td>ARG</td>\n",
       "      <td>1994</td>\n",
       "      <td>-2.27</td>\n",
       "    </tr>\n",
       "  </tbody>\n",
       "</table>\n",
       "</div>"
      ],
      "text/plain": [
       "  ref_area  time  obs_value\n",
       "0      ARG  2018      -1.55\n",
       "1      ARG  1991       6.71\n",
       "2      ARG  1992       8.33\n",
       "3      ARG  1993       7.69\n",
       "4      ARG  1994      -2.27"
      ]
     },
     "execution_count": 27,
     "metadata": {},
     "output_type": "execute_result"
    }
   ],
   "source": [
    "data = data[[\"ref_area\",\"time\",\"obs_value\"]]\n",
    "data.head()"
   ]
  },
  {
   "cell_type": "code",
   "execution_count": 28,
   "metadata": {},
   "outputs": [
    {
     "data": {
      "text/html": [
       "<div>\n",
       "<style scoped>\n",
       "    .dataframe tbody tr th:only-of-type {\n",
       "        vertical-align: middle;\n",
       "    }\n",
       "\n",
       "    .dataframe tbody tr th {\n",
       "        vertical-align: top;\n",
       "    }\n",
       "\n",
       "    .dataframe thead th {\n",
       "        text-align: right;\n",
       "    }\n",
       "</style>\n",
       "<table border=\"1\" class=\"dataframe\">\n",
       "  <thead>\n",
       "    <tr style=\"text-align: right;\">\n",
       "      <th></th>\n",
       "      <th>ref_area</th>\n",
       "      <th>time</th>\n",
       "      <th>obs_value</th>\n",
       "    </tr>\n",
       "  </thead>\n",
       "  <tbody>\n",
       "    <tr>\n",
       "      <td>81</td>\n",
       "      <td>CRI</td>\n",
       "      <td>2010</td>\n",
       "      <td>4.52</td>\n",
       "    </tr>\n",
       "    <tr>\n",
       "      <td>82</td>\n",
       "      <td>CRI</td>\n",
       "      <td>2011</td>\n",
       "      <td>-1.38</td>\n",
       "    </tr>\n",
       "    <tr>\n",
       "      <td>83</td>\n",
       "      <td>CRI</td>\n",
       "      <td>2012</td>\n",
       "      <td>-10.47</td>\n",
       "    </tr>\n",
       "    <tr>\n",
       "      <td>84</td>\n",
       "      <td>CRI</td>\n",
       "      <td>2013</td>\n",
       "      <td>6.45</td>\n",
       "    </tr>\n",
       "    <tr>\n",
       "      <td>85</td>\n",
       "      <td>CRI</td>\n",
       "      <td>2014</td>\n",
       "      <td>1.28</td>\n",
       "    </tr>\n",
       "  </tbody>\n",
       "</table>\n",
       "</div>"
      ],
      "text/plain": [
       "   ref_area  time  obs_value\n",
       "81      CRI  2010       4.52\n",
       "82      CRI  2011      -1.38\n",
       "83      CRI  2012     -10.47\n",
       "84      CRI  2013       6.45\n",
       "85      CRI  2014       1.28"
      ]
     },
     "execution_count": 28,
     "metadata": {},
     "output_type": "execute_result"
    }
   ],
   "source": [
    "region_data = data.loc[data['ref_area'] == 'CRI']\n",
    "region_data.head()"
   ]
  },
  {
   "cell_type": "code",
   "execution_count": 29,
   "metadata": {},
   "outputs": [
    {
     "data": {
      "image/png": "[encoded data removed]",
      "text/plain": [
       "<Figure size 360x360 with 1 Axes>"
      ]
     },
     "metadata": {
      "needs_background": "light"
     },
     "output_type": "display_data"
    }
   ],
   "source": [
    "sns.relplot(x=\"time\", y=\"obs_value\",\n",
    "            kind=\"line\", data=region_data);"
   ]
  },
  {
   "cell_type": "code",
   "execution_count": 30,
   "metadata": {},
   "outputs": [
    {
     "data": {
      "text/html": [
       "<div>\n",
       "<style scoped>\n",
       "    .dataframe tbody tr th:only-of-type {\n",
       "        vertical-align: middle;\n",
       "    }\n",
       "\n",
       "    .dataframe tbody tr th {\n",
       "        vertical-align: top;\n",
       "    }\n",
       "\n",
       "    .dataframe thead th {\n",
       "        text-align: right;\n",
       "    }\n",
       "</style>\n",
       "<table border=\"1\" class=\"dataframe\">\n",
       "  <thead>\n",
       "    <tr style=\"text-align: right;\">\n",
       "      <th></th>\n",
       "      <th>ref_area.label</th>\n",
       "      <th>indicator.label</th>\n",
       "      <th>source.label</th>\n",
       "      <th>classif1.label</th>\n",
       "      <th>time</th>\n",
       "      <th>obs_value</th>\n",
       "      <th>note_indicator.label</th>\n",
       "      <th>note_source.label</th>\n",
       "    </tr>\n",
       "  </thead>\n",
       "  <tbody>\n",
       "    <tr>\n",
       "      <td>0</td>\n",
       "      <td>Argentina</td>\n",
       "      <td>Gender wage gap by occupation (%)</td>\n",
       "      <td>ARG - LFS - Encuesta Permanente de Hogares (Ur...</td>\n",
       "      <td>Occupation (ISCO-08): Total</td>\n",
       "      <td>2018</td>\n",
       "      <td>-1.55</td>\n",
       "      <td>Currency: ARG - Argentine peso (ARS) | Time un...</td>\n",
       "      <td>Employment definition: Excluding own-use produ...</td>\n",
       "    </tr>\n",
       "    <tr>\n",
       "      <td>1</td>\n",
       "      <td>Argentina</td>\n",
       "      <td>Gender wage gap by occupation (%)</td>\n",
       "      <td>ARG - LFS - Encuesta Permanente de Hogares (Ur...</td>\n",
       "      <td>Occupation (ISCO-08): 1. Managers</td>\n",
       "      <td>2018</td>\n",
       "      <td>6.67</td>\n",
       "      <td>Currency: ARG - Argentine peso (ARS) | Time un...</td>\n",
       "      <td>Employment definition: Excluding own-use produ...</td>\n",
       "    </tr>\n",
       "    <tr>\n",
       "      <td>2</td>\n",
       "      <td>Argentina</td>\n",
       "      <td>Gender wage gap by occupation (%)</td>\n",
       "      <td>ARG - LFS - Encuesta Permanente de Hogares (Ur...</td>\n",
       "      <td>Occupation (ISCO-08): 2. Professionals</td>\n",
       "      <td>2018</td>\n",
       "      <td>20.08</td>\n",
       "      <td>Currency: ARG - Argentine peso (ARS) | Time un...</td>\n",
       "      <td>Employment definition: Excluding own-use produ...</td>\n",
       "    </tr>\n",
       "    <tr>\n",
       "      <td>3</td>\n",
       "      <td>Argentina</td>\n",
       "      <td>Gender wage gap by occupation (%)</td>\n",
       "      <td>ARG - LFS - Encuesta Permanente de Hogares (Ur...</td>\n",
       "      <td>Occupation (ISCO-08): 3. Technicians and assoc...</td>\n",
       "      <td>2018</td>\n",
       "      <td>5.70</td>\n",
       "      <td>Currency: ARG - Argentine peso (ARS) | Time un...</td>\n",
       "      <td>Employment definition: Excluding own-use produ...</td>\n",
       "    </tr>\n",
       "    <tr>\n",
       "      <td>4</td>\n",
       "      <td>Argentina</td>\n",
       "      <td>Gender wage gap by occupation (%)</td>\n",
       "      <td>ARG - LFS - Encuesta Permanente de Hogares (Ur...</td>\n",
       "      <td>Occupation (ISCO-08): 4. Clerical support workers</td>\n",
       "      <td>2018</td>\n",
       "      <td>2.05</td>\n",
       "      <td>Currency: ARG - Argentine peso (ARS) | Time un...</td>\n",
       "      <td>Employment definition: Excluding own-use produ...</td>\n",
       "    </tr>\n",
       "  </tbody>\n",
       "</table>\n",
       "</div>"
      ],
      "text/plain": [
       "  ref_area.label                    indicator.label  \\\n",
       "0      Argentina  Gender wage gap by occupation (%)   \n",
       "1      Argentina  Gender wage gap by occupation (%)   \n",
       "2      Argentina  Gender wage gap by occupation (%)   \n",
       "3      Argentina  Gender wage gap by occupation (%)   \n",
       "4      Argentina  Gender wage gap by occupation (%)   \n",
       "\n",
       "                                        source.label  \\\n",
       "0  ARG - LFS - Encuesta Permanente de Hogares (Ur...   \n",
       "1  ARG - LFS - Encuesta Permanente de Hogares (Ur...   \n",
       "2  ARG - LFS - Encuesta Permanente de Hogares (Ur...   \n",
       "3  ARG - LFS - Encuesta Permanente de Hogares (Ur...   \n",
       "4  ARG - LFS - Encuesta Permanente de Hogares (Ur...   \n",
       "\n",
       "                                      classif1.label  time  obs_value  \\\n",
       "0                        Occupation (ISCO-08): Total  2018      -1.55   \n",
       "1                  Occupation (ISCO-08): 1. Managers  2018       6.67   \n",
       "2             Occupation (ISCO-08): 2. Professionals  2018      20.08   \n",
       "3  Occupation (ISCO-08): 3. Technicians and assoc...  2018       5.70   \n",
       "4  Occupation (ISCO-08): 4. Clerical support workers  2018       2.05   \n",
       "\n",
       "                                note_indicator.label  \\\n",
       "0  Currency: ARG - Argentine peso (ARS) | Time un...   \n",
       "1  Currency: ARG - Argentine peso (ARS) | Time un...   \n",
       "2  Currency: ARG - Argentine peso (ARS) | Time un...   \n",
       "3  Currency: ARG - Argentine peso (ARS) | Time un...   \n",
       "4  Currency: ARG - Argentine peso (ARS) | Time un...   \n",
       "\n",
       "                                   note_source.label  \n",
       "0  Employment definition: Excluding own-use produ...  \n",
       "1  Employment definition: Excluding own-use produ...  \n",
       "2  Employment definition: Excluding own-use produ...  \n",
       "3  Employment definition: Excluding own-use produ...  \n",
       "4  Employment definition: Excluding own-use produ...  "
      ]
     },
     "execution_count": 30,
     "metadata": {},
     "output_type": "execute_result"
    }
   ],
   "source": [
    "url = \"data/ILO/ilostat-2020-03-14.csv\"\n",
    "data = pd.read_csv(url)\n",
    "data.head()"
   ]
  },
  {
   "cell_type": "code",
   "execution_count": 31,
   "metadata": {},
   "outputs": [
    {
     "data": {
      "text/html": [
       "<div>\n",
       "<style scoped>\n",
       "    .dataframe tbody tr th:only-of-type {\n",
       "        vertical-align: middle;\n",
       "    }\n",
       "\n",
       "    .dataframe tbody tr th {\n",
       "        vertical-align: top;\n",
       "    }\n",
       "\n",
       "    .dataframe thead th {\n",
       "        text-align: right;\n",
       "    }\n",
       "</style>\n",
       "<table border=\"1\" class=\"dataframe\">\n",
       "  <thead>\n",
       "    <tr style=\"text-align: right;\">\n",
       "      <th></th>\n",
       "      <th>ref_area.label</th>\n",
       "      <th>classif1.label</th>\n",
       "      <th>time</th>\n",
       "      <th>obs_value</th>\n",
       "    </tr>\n",
       "  </thead>\n",
       "  <tbody>\n",
       "    <tr>\n",
       "      <td>0</td>\n",
       "      <td>Argentina</td>\n",
       "      <td>Occupation (ISCO-08): Total</td>\n",
       "      <td>2018</td>\n",
       "      <td>-1.55</td>\n",
       "    </tr>\n",
       "    <tr>\n",
       "      <td>1</td>\n",
       "      <td>Argentina</td>\n",
       "      <td>Occupation (ISCO-08): 1. Managers</td>\n",
       "      <td>2018</td>\n",
       "      <td>6.67</td>\n",
       "    </tr>\n",
       "    <tr>\n",
       "      <td>2</td>\n",
       "      <td>Argentina</td>\n",
       "      <td>Occupation (ISCO-08): 2. Professionals</td>\n",
       "      <td>2018</td>\n",
       "      <td>20.08</td>\n",
       "    </tr>\n",
       "    <tr>\n",
       "      <td>3</td>\n",
       "      <td>Argentina</td>\n",
       "      <td>Occupation (ISCO-08): 3. Technicians and assoc...</td>\n",
       "      <td>2018</td>\n",
       "      <td>5.70</td>\n",
       "    </tr>\n",
       "    <tr>\n",
       "      <td>4</td>\n",
       "      <td>Argentina</td>\n",
       "      <td>Occupation (ISCO-08): 4. Clerical support workers</td>\n",
       "      <td>2018</td>\n",
       "      <td>2.05</td>\n",
       "    </tr>\n",
       "  </tbody>\n",
       "</table>\n",
       "</div>"
      ],
      "text/plain": [
       "  ref_area.label                                     classif1.label  time  \\\n",
       "0      Argentina                        Occupation (ISCO-08): Total  2018   \n",
       "1      Argentina                  Occupation (ISCO-08): 1. Managers  2018   \n",
       "2      Argentina             Occupation (ISCO-08): 2. Professionals  2018   \n",
       "3      Argentina  Occupation (ISCO-08): 3. Technicians and assoc...  2018   \n",
       "4      Argentina  Occupation (ISCO-08): 4. Clerical support workers  2018   \n",
       "\n",
       "   obs_value  \n",
       "0      -1.55  \n",
       "1       6.67  \n",
       "2      20.08  \n",
       "3       5.70  \n",
       "4       2.05  "
      ]
     },
     "execution_count": 31,
     "metadata": {},
     "output_type": "execute_result"
    }
   ],
   "source": [
    "data = data[[\"ref_area.label\",\"classif1.label\",\"time\",\"obs_value\"]]\n",
    "data.head()"
   ]
  },
  {
   "cell_type": "code",
   "execution_count": 32,
   "metadata": {},
   "outputs": [
    {
     "data": {
      "text/html": [
       "<div>\n",
       "<style scoped>\n",
       "    .dataframe tbody tr th:only-of-type {\n",
       "        vertical-align: middle;\n",
       "    }\n",
       "\n",
       "    .dataframe tbody tr th {\n",
       "        vertical-align: top;\n",
       "    }\n",
       "\n",
       "    .dataframe thead th {\n",
       "        text-align: right;\n",
       "    }\n",
       "</style>\n",
       "<table border=\"1\" class=\"dataframe\">\n",
       "  <thead>\n",
       "    <tr style=\"text-align: right;\">\n",
       "      <th></th>\n",
       "      <th>ref_area.label</th>\n",
       "      <th>classif1.label</th>\n",
       "      <th>time</th>\n",
       "      <th>obs_value</th>\n",
       "    </tr>\n",
       "  </thead>\n",
       "  <tbody>\n",
       "    <tr>\n",
       "      <td>198</td>\n",
       "      <td>Czechia</td>\n",
       "      <td>Occupation (ISCO-08): Total</td>\n",
       "      <td>2012</td>\n",
       "      <td>21.25</td>\n",
       "    </tr>\n",
       "    <tr>\n",
       "      <td>199</td>\n",
       "      <td>Czechia</td>\n",
       "      <td>Occupation (ISCO-08): 1. Managers</td>\n",
       "      <td>2012</td>\n",
       "      <td>30.14</td>\n",
       "    </tr>\n",
       "    <tr>\n",
       "      <td>200</td>\n",
       "      <td>Czechia</td>\n",
       "      <td>Occupation (ISCO-08): 2. Professionals</td>\n",
       "      <td>2012</td>\n",
       "      <td>28.12</td>\n",
       "    </tr>\n",
       "    <tr>\n",
       "      <td>201</td>\n",
       "      <td>Czechia</td>\n",
       "      <td>Occupation (ISCO-08): 3. Technicians and assoc...</td>\n",
       "      <td>2012</td>\n",
       "      <td>19.61</td>\n",
       "    </tr>\n",
       "    <tr>\n",
       "      <td>202</td>\n",
       "      <td>Czechia</td>\n",
       "      <td>Occupation (ISCO-08): 4. Clerical support workers</td>\n",
       "      <td>2012</td>\n",
       "      <td>17.68</td>\n",
       "    </tr>\n",
       "  </tbody>\n",
       "</table>\n",
       "</div>"
      ],
      "text/plain": [
       "    ref_area.label                                     classif1.label  time  \\\n",
       "198        Czechia                        Occupation (ISCO-08): Total  2012   \n",
       "199        Czechia                  Occupation (ISCO-08): 1. Managers  2012   \n",
       "200        Czechia             Occupation (ISCO-08): 2. Professionals  2012   \n",
       "201        Czechia  Occupation (ISCO-08): 3. Technicians and assoc...  2012   \n",
       "202        Czechia  Occupation (ISCO-08): 4. Clerical support workers  2012   \n",
       "\n",
       "     obs_value  \n",
       "198      21.25  \n",
       "199      30.14  \n",
       "200      28.12  \n",
       "201      19.61  \n",
       "202      17.68  "
      ]
     },
     "execution_count": 32,
     "metadata": {},
     "output_type": "execute_result"
    }
   ],
   "source": [
    "region_data = data.loc[data['ref_area.label'] == 'Czechia']\n",
    "#region_data = region_data.drop(region_data[region_data[\"time\"]<2012].index)\n",
    "region_data.head()"
   ]
  },
  {
   "cell_type": "code",
   "execution_count": 33,
   "metadata": {},
   "outputs": [
    {
     "data": {
      "image/png": "[encoded data removed]",
      "text/plain": [
       "<Figure size 763.625x360 with 1 Axes>"
      ]
     },
     "metadata": {
      "needs_background": "light"
     },
     "output_type": "display_data"
    }
   ],
   "source": [
    "dash_styles = [\"\",\n",
    "               (4, 1.5),\n",
    "               (1, 1),\n",
    "               (3, 1, 1.5, 1),\n",
    "               (5, 1, 1, 1),\n",
    "               (5, 1, 2, 1, 2, 1),\n",
    "               (2, 2, 3, 1.5),\n",
    "               (1, 2.5, 3, 1.2)]\n",
    "\n",
    "sns.relplot(x=\"time\", y=\"obs_value\",\n",
    "            hue=\"classif1.label\",\n",
    "            kind=\"line\", data=region_data, dashes=dash_styles);"
   ]
  },
  {
   "cell_type": "code",
   "execution_count": 34,
   "metadata": {},
   "outputs": [
    {
     "data": {
      "text/plain": [
       "91"
      ]
     },
     "execution_count": 34,
     "metadata": {},
     "output_type": "execute_result"
    }
   ],
   "source": [
    "partial_data = data.loc[data['classif1.label'] == 'Occupation (ISCO-08): 1. Managers']\n",
    "len(partial_data) "
   ]
  },
  {
   "cell_type": "code",
   "execution_count": 35,
   "metadata": {},
   "outputs": [
    {
     "data": {
      "text/html": [
       "<div>\n",
       "<style scoped>\n",
       "    .dataframe tbody tr th:only-of-type {\n",
       "        vertical-align: middle;\n",
       "    }\n",
       "\n",
       "    .dataframe tbody tr th {\n",
       "        vertical-align: top;\n",
       "    }\n",
       "\n",
       "    .dataframe thead th {\n",
       "        text-align: right;\n",
       "    }\n",
       "</style>\n",
       "<table border=\"1\" class=\"dataframe\">\n",
       "  <thead>\n",
       "    <tr style=\"text-align: right;\">\n",
       "      <th></th>\n",
       "      <th>ref_area.label</th>\n",
       "      <th>classif1.label</th>\n",
       "      <th>time</th>\n",
       "      <th>obs_value</th>\n",
       "    </tr>\n",
       "  </thead>\n",
       "  <tbody>\n",
       "    <tr>\n",
       "      <td>5</td>\n",
       "      <td>Argentina</td>\n",
       "      <td>Occupation (ISCO-08): 5. Service and sales wor...</td>\n",
       "      <td>2018</td>\n",
       "      <td>15.84</td>\n",
       "    </tr>\n",
       "    <tr>\n",
       "      <td>44</td>\n",
       "      <td>Belize</td>\n",
       "      <td>Occupation (ISCO-08): 5. Service and sales wor...</td>\n",
       "      <td>2017</td>\n",
       "      <td>0.00</td>\n",
       "    </tr>\n",
       "    <tr>\n",
       "      <td>56</td>\n",
       "      <td>Belize</td>\n",
       "      <td>Occupation (ISCO-08): 5. Service and sales wor...</td>\n",
       "      <td>2018</td>\n",
       "      <td>-6.53</td>\n",
       "    </tr>\n",
       "    <tr>\n",
       "      <td>113</td>\n",
       "      <td>Brunei Darussalam</td>\n",
       "      <td>Occupation (ISCO-08): 5. Service and sales wor...</td>\n",
       "      <td>2014</td>\n",
       "      <td>34.15</td>\n",
       "    </tr>\n",
       "    <tr>\n",
       "      <td>123</td>\n",
       "      <td>Brunei Darussalam</td>\n",
       "      <td>Occupation (ISCO-08): 5. Service and sales wor...</td>\n",
       "      <td>2017</td>\n",
       "      <td>32.12</td>\n",
       "    </tr>\n",
       "  </tbody>\n",
       "</table>\n",
       "</div>"
      ],
      "text/plain": [
       "        ref_area.label                                     classif1.label  \\\n",
       "5            Argentina  Occupation (ISCO-08): 5. Service and sales wor...   \n",
       "44              Belize  Occupation (ISCO-08): 5. Service and sales wor...   \n",
       "56              Belize  Occupation (ISCO-08): 5. Service and sales wor...   \n",
       "113  Brunei Darussalam  Occupation (ISCO-08): 5. Service and sales wor...   \n",
       "123  Brunei Darussalam  Occupation (ISCO-08): 5. Service and sales wor...   \n",
       "\n",
       "     time  obs_value  \n",
       "5    2018      15.84  \n",
       "44   2017       0.00  \n",
       "56   2018      -6.53  \n",
       "113  2014      34.15  \n",
       "123  2017      32.12  "
      ]
     },
     "execution_count": 35,
     "metadata": {},
     "output_type": "execute_result"
    }
   ],
   "source": [
    "partial_data = data.loc[data['classif1.label'] == 'Occupation (ISCO-08): 5. Service and sales workers']\n",
    "#partial_data = partial_data.drop(partial_data.index[20], inplace=True)\n",
    "partial_data.head()"
   ]
  },
  {
   "cell_type": "code",
   "execution_count": 36,
   "metadata": {},
   "outputs": [
    {
     "data": {
      "image/png": "[encoded data removed]",
      "text/plain": [
       "<Figure size 495.75x360 with 1 Axes>"
      ]
     },
     "metadata": {
      "needs_background": "light"
     },
     "output_type": "display_data"
    }
   ],
   "source": [
    "dash_styles = [\"\",\n",
    "               (4, 1.5),\n",
    "               (1, 1),\n",
    "               (3, 1, 1.5, 1),\n",
    "               (5, 1, 1, 1),\n",
    "               (5, 1, 2, 1, 2, 1),\n",
    "               (2, 2, 3, 1.5),\n",
    "               (1, 2.5, 3, 1.2)]\n",
    "\n",
    "sns.relplot(x=\"time\", y=\"obs_value\",\n",
    "            hue=\"ref_area.label\",\n",
    "            kind=\"line\", data=partial_data, dashes=dash_styles);"
   ]
  },
  {
   "cell_type": "code",
   "execution_count": 37,
   "metadata": {},
   "outputs": [
    {
     "name": "stdout",
     "output_type": "stream",
     "text": [
      "['Argentina', 'Belize', 'Bolivia', 'Brazil', 'Brunei Darussalam', 'Chile', 'Colombia', 'Costa Rica', 'Curaçao', 'Czechia', 'Dominican Republic', 'Ecuador', 'El Salvador', 'Finland', 'Guatemala', 'Haiti', 'Honduras', 'Israel', 'Jamaica', 'Korea, Republic of', 'Malaysia', 'Mexico', 'Nicaragua', 'Pakistan', 'Panama', 'Paraguay', 'Peru', 'Portugal', 'Romania', 'Russian Federation', 'Slovakia', 'Spain', 'Suriname', 'Thailand', 'Turkey', 'Ukraine', 'United Kingdom', 'Uruguay', 'Venezuela, Bolivarian Republic of', 'Viet Nam']\n"
     ]
    },
    {
     "data": {
      "text/plain": [
       "40"
      ]
     },
     "execution_count": 37,
     "metadata": {},
     "output_type": "execute_result"
    }
   ],
   "source": [
    "col=data.iloc[:,0]\n",
    "country=col.values\n",
    "country=list(set(country))\n",
    "country.sort()\n",
    "print(country)\n",
    "len(country)"
   ]
  },
  {
   "cell_type": "code",
   "execution_count": 38,
   "metadata": {},
   "outputs": [
    {
     "data": {
      "text/html": [
       "<div>\n",
       "<style scoped>\n",
       "    .dataframe tbody tr th:only-of-type {\n",
       "        vertical-align: middle;\n",
       "    }\n",
       "\n",
       "    .dataframe tbody tr th {\n",
       "        vertical-align: top;\n",
       "    }\n",
       "\n",
       "    .dataframe thead th {\n",
       "        text-align: right;\n",
       "    }\n",
       "</style>\n",
       "<table border=\"1\" class=\"dataframe\">\n",
       "  <thead>\n",
       "    <tr style=\"text-align: right;\">\n",
       "      <th></th>\n",
       "      <th>ref_area.label</th>\n",
       "      <th>classif1.label</th>\n",
       "      <th>time</th>\n",
       "      <th>obs_value</th>\n",
       "    </tr>\n",
       "  </thead>\n",
       "  <tbody>\n",
       "    <tr>\n",
       "      <td>9</td>\n",
       "      <td>Argentina</td>\n",
       "      <td>Occupation (ISCO-08): 9. Elementary occupations</td>\n",
       "      <td>2018</td>\n",
       "      <td>-20.24</td>\n",
       "    </tr>\n",
       "    <tr>\n",
       "      <td>6</td>\n",
       "      <td>Argentina</td>\n",
       "      <td>Occupation (ISCO-08): 6. Skilled agricultural,...</td>\n",
       "      <td>2018</td>\n",
       "      <td>-8.79</td>\n",
       "    </tr>\n",
       "    <tr>\n",
       "      <td>11</td>\n",
       "      <td>Argentina</td>\n",
       "      <td>Occupation (ISCO-08): X. Not elsewhere classified</td>\n",
       "      <td>2018</td>\n",
       "      <td>-3.70</td>\n",
       "    </tr>\n",
       "    <tr>\n",
       "      <td>7</td>\n",
       "      <td>Argentina</td>\n",
       "      <td>Occupation (ISCO-08): 7. Craft and related tra...</td>\n",
       "      <td>2018</td>\n",
       "      <td>0.97</td>\n",
       "    </tr>\n",
       "    <tr>\n",
       "      <td>4</td>\n",
       "      <td>Argentina</td>\n",
       "      <td>Occupation (ISCO-08): 4. Clerical support workers</td>\n",
       "      <td>2018</td>\n",
       "      <td>2.05</td>\n",
       "    </tr>\n",
       "  </tbody>\n",
       "</table>\n",
       "</div>"
      ],
      "text/plain": [
       "   ref_area.label                                     classif1.label  time  \\\n",
       "9       Argentina    Occupation (ISCO-08): 9. Elementary occupations  2018   \n",
       "6       Argentina  Occupation (ISCO-08): 6. Skilled agricultural,...  2018   \n",
       "11      Argentina  Occupation (ISCO-08): X. Not elsewhere classified  2018   \n",
       "7       Argentina  Occupation (ISCO-08): 7. Craft and related tra...  2018   \n",
       "4       Argentina  Occupation (ISCO-08): 4. Clerical support workers  2018   \n",
       "\n",
       "    obs_value  \n",
       "9      -20.24  \n",
       "6       -8.79  \n",
       "11      -3.70  \n",
       "7        0.97  \n",
       "4        2.05  "
      ]
     },
     "execution_count": 38,
     "metadata": {},
     "output_type": "execute_result"
    }
   ],
   "source": [
    "data = data.drop(data[data[\"classif1.label\"]==\"Occupation (ISCO-08): Total\"].index)\n",
    "data_per_country = []\n",
    "for i in range(40):\n",
    "    temp = data[data['ref_area.label'] == country[i]].copy(deep=True)\n",
    "    temp.sort_values(\"obs_value\",inplace=True)\n",
    "    data_per_country.append(temp)\n",
    "\n",
    "data_per_country[0].head()"
   ]
  },
  {
   "cell_type": "code",
   "execution_count": 39,
   "metadata": {},
   "outputs": [
    {
     "name": "stdout",
     "output_type": "stream",
     "text": [
      "[17, 6, 6, 2, 9, 9, 27, 12, 2, 1]\n"
     ]
    }
   ],
   "source": [
    "weight_list = [0,0,0,0,0,0,0,0,0,0]\n",
    "for item in data_per_country:\n",
    "    col=item.iloc[:,2]\n",
    "    year=col.values\n",
    "    year=list(set(year))\n",
    "    data_per_year = []\n",
    "    for i in range(len(year)):\n",
    "        temp = item[item['time'] == year[i]].copy(deep=True)\n",
    "        temp.sort_values(\"obs_value\",inplace=True)\n",
    "        data_per_year.append(temp)\n",
    "\n",
    "    for subitem in data_per_year:\n",
    "        sub_col=subitem.iloc[:,1]\n",
    "        occupation=sub_col.values\n",
    "        label = occupation[-1]\n",
    "        if label == \"Occupation (ISCO-08): 1. Managers\":\n",
    "            weight_list[0]+=1\n",
    "        if label == \"Occupation (ISCO-08): 2. Professionals\":\n",
    "            weight_list[1]+=1\n",
    "        if label == \"Occupation (ISCO-08): 3. Technicians and associate professionals\":\n",
    "            weight_list[2]+=1\n",
    "        if label == \"Occupation (ISCO-08): 4. Clerical support workers\":\n",
    "            weight_list[3]+=1\n",
    "        if label == \"Occupation (ISCO-08): 5. Service and sales workers\":\n",
    "            weight_list[4]+=1\n",
    "        if label == \"Occupation (ISCO-08): 6. Skilled agricultural, forestry and fishery workers\":\n",
    "            weight_list[5]+=1\n",
    "        if label == \"Occupation (ISCO-08): 7. Craft and related trades workers\":\n",
    "            weight_list[6]+=1\n",
    "        if label == \"Occupation (ISCO-08): 8. Plant and machine operators, and assemblers\":\n",
    "            weight_list[7]+=1\n",
    "        if label == \"Occupation (ISCO-08): 9. Elementary occupations\":\n",
    "            weight_list[8]+=1\n",
    "        if label == \"Occupation (ISCO-08): 0. Armed forces occupations\":\n",
    "            weight_list[9]+=1    \n",
    "\n",
    "\n",
    "\n",
    "print(weight_list)     "
   ]
  },
  {
   "cell_type": "code",
   "execution_count": 40,
   "metadata": {},
   "outputs": [
    {
     "data": {
      "text/plain": [
       "<BarContainer object of 10 artists>"
      ]
     },
     "execution_count": 40,
     "metadata": {},
     "output_type": "execute_result"
    },
    {
     "data": {
      "image/png": "[encoded data removed]",
      "text/plain": [
       "<Figure size 432x288 with 1 Axes>"
      ]
     },
     "metadata": {
      "needs_background": "light"
     },
     "output_type": "display_data"
    }
   ],
   "source": [
    "x=[1,2,3,4,5,6,7,8,9,10]\n",
    "plt.bar(x,weight_list,label=\"weight\", tick_label=x)"
   ]
  },
  {
   "cell_type": "code",
   "execution_count": null,
   "metadata": {},
   "outputs": [],
   "source": []
  },
  {
   "cell_type": "code",
   "execution_count": null,
   "metadata": {},
   "outputs": [],
   "source": []
  },
  {
   "cell_type": "code",
   "execution_count": null,
   "metadata": {},
   "outputs": [],
   "source": []
  }
 ],
 "metadata": {
  "kernelspec": {
   "display_name": "Python 3",
   "language": "python",
   "name": "python3"
  },
  "language_info": {
   "codemirror_mode": {
    "name": "ipython",
    "version": 3
   },
   "file_extension": ".py",
   "mimetype": "text/x-python",
   "name": "python",
   "nbconvert_exporter": "python",
   "pygments_lexer": "ipython3",
   "version": "3.7.4"
  }
 },
 "nbformat": 4,
 "nbformat_minor": 2
}
